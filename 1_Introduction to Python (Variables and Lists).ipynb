{
  "nbformat": 4,
  "nbformat_minor": 0,
  "metadata": {
    "colab": {
      "provenance": [],
      "include_colab_link": true
    },
    "kernelspec": {
      "name": "python3",
      "display_name": "Python 3"
    },
    "language_info": {
      "name": "python"
    }
  },
  "cells": [
    {
      "cell_type": "markdown",
      "metadata": {
        "id": "view-in-github",
        "colab_type": "text"
      },
      "source": [
        "<a href=\"https://colab.research.google.com/github/narminGhaffari/Programming_Diary/blob/main/1_Introduction%20to%20Python%20(Variables%20and%20Lists).ipynb\" target=\"_parent\"><img src=\"https://colab.research.google.com/assets/colab-badge.svg\" alt=\"Open In Colab\"/></a>"
      ]
    },
    {
      "cell_type": "markdown",
      "source": [
        "\n",
        "\n",
        "Created by: Stefano Caruso (stefano.caruso@inserm.fr )"
      ],
      "metadata": {
        "id": "nElkQnPiZZPr"
      }
    },
    {
      "cell_type": "markdown",
      "source": [
        "**Practical Part 1 (Variables and Lists)**\n"
      ],
      "metadata": {
        "id": "rDt3PIIUaH8D"
      }
    },
    {
      "cell_type": "markdown",
      "source": [
        "**1.**\tGenerate a string representing a strand of poly-A DNA (i.e., containing only A bases) of 20 bases in length, without literally typing all the bases."
      ],
      "metadata": {
        "id": "K1cLjNuVaOP8"
      }
    },
    {
      "cell_type": "code",
      "source": [
        "\"A\"*20"
      ],
      "metadata": {
        "id": "r1BRxdYojCiV",
        "outputId": "7be83668-8bdc-49be-c123-59b0e7940aa8",
        "colab": {
          "base_uri": "https://localhost:8080/",
          "height": 35
        }
      },
      "execution_count": null,
      "outputs": [
        {
          "output_type": "execute_result",
          "data": {
            "text/plain": [
              "'AAAAAAAAAAAAAAAAAAAA'"
            ],
            "application/vnd.google.colaboratory.intrinsic+json": {
              "type": "string"
            }
          },
          "metadata": {},
          "execution_count": 14
        }
      ]
    },
    {
      "cell_type": "markdown",
      "source": [
        "**2.**\tGenerate in one line of code a poly-A DNA strand (AAAA...) of 20 bases followed by a regular poly-GC (GCGCGC...) of 40 bases"
      ],
      "metadata": {
        "id": "rBrcPEtUaynZ"
      }
    },
    {
      "cell_type": "code",
      "source": [
        "\"A\" *20 + \"GC\" *40"
      ],
      "metadata": {
        "id": "OoBhqnTHjqGf",
        "outputId": "c62e2e6e-6fb3-4271-e0e2-a90cea0441a6",
        "colab": {
          "base_uri": "https://localhost:8080/",
          "height": 35
        }
      },
      "execution_count": null,
      "outputs": [
        {
          "output_type": "execute_result",
          "data": {
            "text/plain": [
              "'AAAAAAAAAAAAAAAAAAAAGCGCGCGCGCGCGCGCGCGCGCGCGCGCGCGCGCGCGCGCGCGCGCGCGCGCGCGCGCGCGCGCGCGCGCGCGCGCGCGC'"
            ],
            "application/vnd.google.colaboratory.intrinsic+json": {
              "type": "string"
            }
          },
          "metadata": {},
          "execution_count": 15
        }
      ]
    },
    {
      "cell_type": "markdown",
      "source": [
        "**3.**\tDisplay the 9 times table in one command with the range() and list() commands."
      ],
      "metadata": {
        "id": "ktTOOwbLc-fI"
      }
    },
    {
      "cell_type": "code",
      "source": [],
      "metadata": {
        "id": "5fQ2KUk_PItu"
      },
      "execution_count": null,
      "outputs": []
    },
    {
      "cell_type": "markdown",
      "source": [],
      "metadata": {
        "id": "kUhRtdx_PI5z"
      }
    },
    {
      "cell_type": "code",
      "source": [
        "list(range(0,91,9))"
      ],
      "metadata": {
        "id": "8I2q0v-SjtvS"
      },
      "execution_count": null,
      "outputs": []
    },
    {
      "cell_type": "markdown",
      "source": [
        "**4.**\tSolve the following question in a single command. How many even numbers are there in the interval [2, 10000] (including 2 and 1000)?"
      ],
      "metadata": {
        "id": "khmxzS00d1_X"
      }
    },
    {
      "cell_type": "code",
      "source": [
        "len(list(range(2,10001,2)))"
      ],
      "metadata": {
        "id": "-fFJNVCGjyJ8"
      },
      "execution_count": null,
      "outputs": []
    },
    {
      "cell_type": "markdown",
      "source": [
        "**5.** Make a week list containing the 7 days of the week.\n",
        "\n",
        "- From this list, how do you retrieve only the first 5 days of the week?  and those of the weekend? Use indexing for this."
      ],
      "metadata": {
        "id": "QDRG27TWeLw8"
      }
    },
    {
      "cell_type": "code",
      "source": [
        "week = [\"monday\",\"tuesday\",\"wednesday\",\"thursday\",\"friday\",\"saturday\",\"sunday\"]\n",
        "week[0:5]"
      ],
      "metadata": {
        "id": "jPNTptXPksy1"
      },
      "execution_count": null,
      "outputs": []
    },
    {
      "cell_type": "code",
      "source": [
        "week[5:]"
      ],
      "metadata": {
        "id": "KG6r8t1UkrMa"
      },
      "execution_count": null,
      "outputs": []
    },
    {
      "cell_type": "markdown",
      "source": [
        "- Find another way to get the same result (using another indexing)."
      ],
      "metadata": {
        "id": "dw8UgmzBgbW8"
      }
    },
    {
      "cell_type": "code",
      "source": [
        "week[-2:]"
      ],
      "metadata": {
        "id": "HOetQKARj93Q"
      },
      "execution_count": null,
      "outputs": []
    },
    {
      "cell_type": "code",
      "source": [
        "week[-7:-2]"
      ],
      "metadata": {
        "id": "6n0FPkvIkjRC"
      },
      "execution_count": null,
      "outputs": []
    },
    {
      "cell_type": "markdown",
      "source": [
        "- Find two ways to access the last day of the week."
      ],
      "metadata": {
        "id": "7dDBG7Eugeu6"
      }
    },
    {
      "cell_type": "code",
      "source": [
        "week[6]\n"
      ],
      "metadata": {
        "id": "Gg4DwAGCkHWM"
      },
      "execution_count": null,
      "outputs": []
    },
    {
      "cell_type": "code",
      "source": [
        "week[6]\n"
      ],
      "metadata": {
        "id": "nmOieDVlkfoO"
      },
      "execution_count": null,
      "outputs": []
    },
    {
      "cell_type": "markdown",
      "source": [
        "- Reverse the days of the week in one command."
      ],
      "metadata": {
        "id": "L_Vd6gXmgjcR"
      }
    },
    {
      "cell_type": "code",
      "source": [
        "week[::-1]"
      ],
      "metadata": {
        "colab": {
          "base_uri": "https://localhost:8080/"
        },
        "id": "P8Xav930gkJq",
        "outputId": "bdb747cd-2a26-4828-cedc-9eb3a15a6c74"
      },
      "execution_count": null,
      "outputs": [
        {
          "output_type": "execute_result",
          "data": {
            "text/plain": [
              "['sunday', 'saturday', 'friday', 'thursday', 'wednesday', 'tuesday', 'monday']"
            ]
          },
          "metadata": {},
          "execution_count": 8
        }
      ]
    },
    {
      "cell_type": "code",
      "source": [
        "week[-1:-7:-1]"
      ],
      "metadata": {
        "colab": {
          "base_uri": "https://localhost:8080/"
        },
        "id": "NfTe2crqhTBt",
        "outputId": "811d0802-2c8d-4263-ca5f-96e3d721616f"
      },
      "execution_count": null,
      "outputs": [
        {
          "output_type": "execute_result",
          "data": {
            "text/plain": [
              "['sunday', 'saturday', 'friday', 'thursday', 'wednesday', 'tuesday']"
            ]
          },
          "metadata": {},
          "execution_count": 12
        }
      ]
    },
    {
      "cell_type": "markdown",
      "source": [
        "--(OPTIONAL) There is also the .reverse() method which reverses the list"
      ],
      "metadata": {
        "id": "fJtvb6Ozhmdv"
      }
    },
    {
      "cell_type": "code",
      "source": [
        "week.reverse()\n",
        "week"
      ],
      "metadata": {
        "colab": {
          "base_uri": "https://localhost:8080/"
        },
        "id": "MgHj-Wjwh5ZZ",
        "outputId": "ad8a8ff1-0aad-4e65-8f75-861333c5a580"
      },
      "execution_count": null,
      "outputs": [
        {
          "output_type": "execute_result",
          "data": {
            "text/plain": [
              "['sunday', 'saturday', 'friday', 'thursday', 'wednesday', 'tuesday', 'monday']"
            ]
          },
          "metadata": {},
          "execution_count": 9
        }
      ]
    },
    {
      "cell_type": "markdown",
      "source": [
        "**6.**\tCreate 4 lists: winter, spring, summer and fall containing the months corresponding to these seasons. Then create a seasons list containing the winter, spring, summer and fall lists. Predict what the following statements return, then check it in the interpreter:\n",
        "- `seasons[2]`\n",
        "- `seasons[1][0]`\n",
        "- `seasons[1:2]`\n",
        "- `seasons[:][1]` How do you explain this last result?"
      ],
      "metadata": {
        "id": "7xX3iHhhiluC"
      }
    },
    {
      "cell_type": "code",
      "source": [
        "winter = ['January', 'February', 'March']\n",
        "spring = ['April', 'May', 'June']\n",
        "summer = ['July', 'August', 'September']\n",
        "fall = ['October', 'November', 'December']\n",
        "seasons = [winter, spring, summer, fall]"
      ],
      "metadata": {
        "id": "ZO4dnoQEiuSS"
      },
      "execution_count": null,
      "outputs": []
    },
    {
      "cell_type": "code",
      "source": [
        "seasons[2]"
      ],
      "metadata": {
        "colab": {
          "base_uri": "https://localhost:8080/"
        },
        "id": "UJIp7rlrjfBW",
        "outputId": "b6b04845-f574-4469-de9a-30060fcd7f7e"
      },
      "execution_count": null,
      "outputs": [
        {
          "output_type": "execute_result",
          "data": {
            "text/plain": [
              "['July', 'August', 'September']"
            ]
          },
          "metadata": {},
          "execution_count": 15
        }
      ]
    },
    {
      "cell_type": "code",
      "source": [
        "seasons[1][0]"
      ],
      "metadata": {
        "colab": {
          "base_uri": "https://localhost:8080/",
          "height": 35
        },
        "id": "WdD54tomjl0d",
        "outputId": "ec0d3107-5d34-4b68-c117-7dcfd1d42afe"
      },
      "execution_count": null,
      "outputs": [
        {
          "output_type": "execute_result",
          "data": {
            "application/vnd.google.colaboratory.intrinsic+json": {
              "type": "string"
            },
            "text/plain": [
              "'April'"
            ]
          },
          "metadata": {},
          "execution_count": 16
        }
      ]
    },
    {
      "cell_type": "code",
      "source": [
        "seasons[1:2]"
      ],
      "metadata": {
        "colab": {
          "base_uri": "https://localhost:8080/"
        },
        "id": "EYRTFI0wjpqE",
        "outputId": "77ea837f-d49b-42c7-c8f6-9ce48ce41400"
      },
      "execution_count": null,
      "outputs": [
        {
          "output_type": "execute_result",
          "data": {
            "text/plain": [
              "[['April', 'May', 'June']]"
            ]
          },
          "metadata": {},
          "execution_count": 17
        }
      ]
    },
    {
      "cell_type": "code",
      "source": [
        "seasons[:][1]"
      ],
      "metadata": {
        "colab": {
          "base_uri": "https://localhost:8080/"
        },
        "id": "oa_hYt5OjvNA",
        "outputId": "c7faf2ee-118e-472d-f378-d5b9e027c084"
      },
      "execution_count": null,
      "outputs": [
        {
          "output_type": "execute_result",
          "data": {
            "text/plain": [
              "['April', 'May', 'June']"
            ]
          },
          "metadata": {},
          "execution_count": 18
        }
      ]
    },
    {
      "cell_type": "markdown",
      "source": [
        "The command `seasons[:]` will actually return all the seasons. We then select only the second one (index 1, which corresponds to spring).\n",
        "\n",
        "\n",
        "\n"
      ],
      "metadata": {
        "id": "xaaskQgilOmp"
      }
    },
    {
      "cell_type": "markdown",
      "source": [
        "**Practical Part 2 (Loops and Tests)**\n"
      ],
      "metadata": {
        "id": "7xZEsdfXYVfy"
      }
    },
    {
      "cell_type": "markdown",
      "source": [
        "**1.**\tLet's say the list `[\"cow\", \"mouse\", \"yeast\", \"bacteria\"]`. Display all the elements of this list (one element per line) in three different ways (two with `for` and one with `while`)."
      ],
      "metadata": {
        "id": "yhVrKNIHYYoi"
      }
    },
    {
      "cell_type": "code",
      "source": [
        "lista =  [\"cow\", \"mouse\", \"yeast\", \"bacteria\"]\n",
        "for animal in lista:\n",
        "  print(animal)"
      ],
      "metadata": {
        "colab": {
          "base_uri": "https://localhost:8080/"
        },
        "id": "cn1YatwhZMkP",
        "outputId": "f191f2ad-076b-4947-af3c-9b5a5c66270c"
      },
      "execution_count": null,
      "outputs": [
        {
          "output_type": "stream",
          "name": "stdout",
          "text": [
            "cow\n",
            "mouse\n",
            "yeast\n",
            "bacteria\n"
          ]
        }
      ]
    },
    {
      "cell_type": "code",
      "source": [
        "for i in range(len(lista)):\n",
        "  print(lista[i])"
      ],
      "metadata": {
        "colab": {
          "base_uri": "https://localhost:8080/"
        },
        "id": "Huj5F88UZu9B",
        "outputId": "c9050449-85ca-48ae-ddbc-4b05f5cd2e7c"
      },
      "execution_count": null,
      "outputs": [
        {
          "output_type": "stream",
          "name": "stdout",
          "text": [
            "cow\n",
            "mouse\n",
            "yeast\n",
            "bacteria\n"
          ]
        }
      ]
    },
    {
      "cell_type": "code",
      "source": [
        "i=0\n",
        "while i < len(lista):\n",
        "  print(lista[i])\n",
        "  i=i+1"
      ],
      "metadata": {
        "colab": {
          "base_uri": "https://localhost:8080/"
        },
        "id": "zaJCvanXZ-LK",
        "outputId": "486a86e4-febe-4d0c-d9ab-0feac7ec526f"
      },
      "execution_count": null,
      "outputs": [
        {
          "output_type": "stream",
          "name": "stdout",
          "text": [
            "cow\n",
            "mouse\n",
            "yeast\n",
            "bacteria\n"
          ]
        }
      ]
    },
    {
      "cell_type": "markdown",
      "source": [
        "**2.**\tLet `odd` be the list of numbers `[1, 3, 5, 7, 9, 11, 13, 15, 17, 19, 21]`. Write a program which, from the `odd` list, constructs an `even` list in which all the elements of `odd` are incremented by 1."
      ],
      "metadata": {
        "id": "4fTI8kYHac6t"
      }
    },
    {
      "cell_type": "code",
      "source": [
        "odd = [1, 3, 5, 7, 9, 11, 13, 15, 17, 19, 21]\n",
        "even = []\n",
        "for i in odd:\n",
        "  even= even + [i+1]\n",
        "\n",
        "even"
      ],
      "metadata": {
        "colab": {
          "base_uri": "https://localhost:8080/"
        },
        "id": "38AjKI1-a69H",
        "outputId": "72050ec0-a5ec-474b-efdd-15c1d891c0dc"
      },
      "execution_count": null,
      "outputs": [
        {
          "output_type": "execute_result",
          "data": {
            "text/plain": [
              "[2, 4, 6, 8, 10, 12, 14, 16, 18, 20, 22]"
            ]
          },
          "metadata": {},
          "execution_count": 7
        }
      ]
    },
    {
      "cell_type": "code",
      "source": [
        "# with append() method\n",
        "[odd = [1, 3, 5, 7, 9, 11, 13, 15, 17, 19, 21]\n",
        "even=[]\n",
        "for i in odd:\n",
        "  even.append(i+1)]\n",
        "\n",
        "even"
      ],
      "metadata": {
        "colab": {
          "base_uri": "https://localhost:8080/"
        },
        "id": "Hf7Oo2ESbdyo",
        "outputId": "9123aaae-3da6-41d6-bd7c-11bd8eb80fe4"
      },
      "execution_count": null,
      "outputs": [
        {
          "output_type": "execute_result",
          "data": {
            "text/plain": [
              "[2, 4, 6, 8, 10, 12, 14, 16, 18, 20, 22]"
            ]
          },
          "metadata": {},
          "execution_count": 9
        }
      ]
    },
    {
      "cell_type": "markdown",
      "source": [
        "**3.**\tUsing the `list()` and `range()` functions, create the list of integers containing the even integers from 2 to 20 (including 20). Then calculate the product of the consecutive two by two integers using a loop. Example for the first few iterations:"
      ],
      "metadata": {
        "id": "eszWj-lycMTP"
      }
    },
    {
      "cell_type": "markdown",
      "source": [
        "![Capture d’écran 2022-02-10 à 22.02.11.png](data:image/png;base64,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)"
      ],
      "metadata": {
        "id": "H46wIK-9cRvY"
      }
    },
    {
      "cell_type": "code",
      "source": [
        "even_list= list(range(2,21,2))\n",
        "for i in range(len(even_list)-1):\n",
        "  print(even_list[i] * even_list[i+1])"
      ],
      "metadata": {
        "colab": {
          "base_uri": "https://localhost:8080/"
        },
        "id": "P00TAOuxcd5P",
        "outputId": "ecdce3c9-dafc-4b7d-8c5c-1effdb863184"
      },
      "execution_count": null,
      "outputs": [
        {
          "output_type": "stream",
          "name": "stdout",
          "text": [
            "8\n",
            "24\n",
            "48\n",
            "80\n",
            "120\n",
            "168\n",
            "224\n",
            "288\n",
            "360\n"
          ]
        }
      ]
    },
    {
      "cell_type": "markdown",
      "source": [
        "**4.**\tUse a loop to draw a triangle like this:"
      ],
      "metadata": {
        "id": "EiXvpV_ze-ED"
      }
    },
    {
      "cell_type": "markdown",
      "source": [
        "![Capture d’écran 2022-02-10 à 22.17.15.png](data:image/png;base64,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)"
      ],
      "metadata": {
        "id": "TPESI5trftCW"
      }
    },
    {
      "cell_type": "code",
      "source": [
        "for i in range(10, 0, -1):\n",
        "  print(\"*\" * i)"
      ],
      "metadata": {
        "colab": {
          "base_uri": "https://localhost:8080/"
        },
        "id": "9SjUGztSf6fJ",
        "outputId": "f8f8f393-79fb-4dff-9355-1bcff4e1bcb9"
      },
      "execution_count": null,
      "outputs": [
        {
          "output_type": "stream",
          "name": "stdout",
          "text": [
            "**********\n",
            "*********\n",
            "********\n",
            "*******\n",
            "******\n",
            "*****\n",
            "****\n",
            "***\n",
            "**\n",
            "*\n"
          ]
        }
      ]
    },
    {
      "cell_type": "markdown",
      "source": [
        "**5.**\tNow, use  a loop to draw a triangle like this:"
      ],
      "metadata": {
        "id": "G4Tepp3ngkpG"
      }
    },
    {
      "cell_type": "markdown",
      "source": [
        "![Capture d’écran 2022-02-10 à 22.17.22.png](data:image/png;base64,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)"
      ],
      "metadata": {
        "id": "-3hOq38-grwn"
      }
    },
    {
      "cell_type": "code",
      "source": [
        "for i in range(1,11):\n",
        "  # 10 - i blanks followed by i stars\n",
        "  print(\" \" * (10-i) + \"*\" * (i))"
      ],
      "metadata": {
        "colab": {
          "base_uri": "https://localhost:8080/"
        },
        "id": "a1CaKMu8g0le",
        "outputId": "118ab2e6-db1c-4c03-c31d-6ea4573dd971"
      },
      "execution_count": null,
      "outputs": [
        {
          "output_type": "stream",
          "name": "stdout",
          "text": [
            "         *\n",
            "        **\n",
            "       ***\n",
            "      ****\n",
            "     *****\n",
            "    ******\n",
            "   *******\n",
            "  ********\n",
            " *********\n",
            "**********\n"
          ]
        }
      ]
    },
    {
      "cell_type": "markdown",
      "source": [
        "**6.**\tSuppose we want to go through all the elements of a square matrix, that is, a matrix that consists of as many rows as columns.\n",
        "\n",
        "Create a script that goes through each element of the matrix and displays the row and column number only using loops with `for`.\n",
        "\n",
        "Figure shows how to walk through a 2 × 2 matrix.\n"
      ],
      "metadata": {
        "id": "rkJRfp_9hz5p"
      }
    },
    {
      "cell_type": "markdown",
      "source": [
        "![Sans titre.png](data:image/png;base64,iVBORw0KGgoAAAANSUhEUgAAAnMAAAIPCAYAAAAYUFi0AAAAAXNSR0IArs4c6QAAAHhlWElmTU0AKgAAAAgABAEaAAUAAAABAAAAPgEbAAUAAAABAAAARgEoAAMAAAABAAIAAIdpAAQAAAABAAAATgAAAAAAAAFKAAAAAQAAAUoAAAABAAOgAQADAAAAAQABAACgAgAEAAAAAQAAAnOgAwAEAAAAAQAAAg8AAAAAO9gMdQAAAAlwSFlzAAAywAAAMsABKGRa2wAAQABJREFUeAHsvQdgHNl5pft3I2eAIMGccxySw8lJmqgwkmzJli3Llux10nNO+7xv/Zx2/TZ4135+u17bWstJ67Vsy0qesShN5gw5wwkMwzQkhwGMIEGAIIgMdHjnVHWRxUY3AtHd6K4+d+ZHVd2qunXrq8uq0/9NZgoiIAIiIAIiIAIiIAIiIAIiIAIiIAIiIAIiIAIiIAIiIAIiIAIiIAIiIAIiIAIiIAIiIAIiIAIiIAIiIAIiIAIiIAIiIAIiIAIiIAIiIAIiIAIiIAIiIAIiIAIiIAIiIAIiIAIiIAIiIAIiIAIiIAIiIAIiIAIiIAIiIAIiIAIiIAIiIAIiIAIiIAIiIAIiIAIiIAIiIAIiIAIiIAIiIAIiIAIiIAIiIAIiIAIiIAIiIAIiIAIiIAIiIAIiIAIiIAIiIAIiIAIiIAIiIAIiIAIiIAIiIAIiIAIiIAIiIAIiIAIiIAIiIAIiIAIiIAIiIAIiIAIiIAIiIAIiIAIiIAIiIAIiIAIiIAIiIAIiIAIiIAIiIAIiIAIiIAIiIAIiIAIiIAIiIAIiIAIiIAIiIAIiIAIiIAIiIAIiIAIiIAIiIAIiIAIiIAIiIAIiIAIiIAIiIAIiIAIiIAIiIAIiIAIiIAIiIAIiIAIiIAIiIAIiIAIiIAIiIAIiIAIiIAIiIAIiIAIiIAIiIAIiIAIiIAIiIAIiIAIiIAIiIAIiIAIiIAIiIAIiIAIiIAIiIAIiIAIiIAIiIAIiIAIiIAIiIAIiIAIiIAIiIAIiIAIiIAIiIAIiIAIiIAIiIAIiIAIiIAIiIAIiIAIiIAIiIAIiIAIiIAIiIAIiIAIiIAIiIAIiIAIiIAIiIAIiIAIiIAIiIAIiIAIiIAIiIAIiIAIiIAIiIAIiIAIiIAL5QyCUP1lRTkRABEQgLwhUIBfNMC4HYO2wGExBBERABERABERABEQgzwn8IPI3BIv77BLWF8AUREAERCAvCYTzMlfKlAiIgAhMD4ENuGx50qVnY3tJUpw2RUAERCBvCEjM5c2jUEZEQAREQAREQAREYPIEJOYmz0xniIAIiIAIiIAIiEDeEJCYy5tHoYyIgAiIgAiIgAiIwOQJSMxNnpnOEAEREAEREAEREIG8ISAxlzePQhkRAREQAREQAREQgckTkJibPDOdIQIiIAIiIAIiIAJ5Q0BiLm8ehTIiAiIgAiIgAiIgApMnIDE3eWY6QwREQAREQAREQATyhoDEXN48CmVEBERABERABERABCZPQGJu8sx0hgiIgAiIgAiIgAjkDQGJubx5FMqICIiACIiACIiACEyeQOnkT9EZIiACImBlYHA/7CkY5zNtgc2CRWGcmL4N9ibsO7AjsKmGeiTwJOwJGCe95/VozMdVWAfsMux12HdhR2G5Drz/j8NmwEpgg7DdCcNiUqEJR38PbCbMS2sv1l+FjRfqcMD3wZgf/mDvhX0Tdh7mDzXY+CyMXJfD5sLI8XTCnsXyOdh4IYQDmMZnYKtgi2ARGMsBr8l0vgHrhk02TPRe+C17Gva9MN4L88DQDmNZfAX2VdhZWCbCYiTC8r8atiaxJL/rMF7zGGwX7NswclAQAREQAREQgbwhUIWc/BqMH/34BG0fjuNHlh/9yYZ1OIFCZBg20evxOH5MKS4me83fS3OdBxE/XvhbHJCcxxjiZo53Yor9f5wiLaa9LMWxyVG/meJcCiovUPj8NoziKjm/ydt8dh+CpQsfxY7jsOTzkrd7cAyPnWwY7174fH8eRsGWfM1U2/8Bx1Hg3m5owIn/FTYES5V+ctwIjvsn2AqYggiIgAiIgAhMO4E7kYNzsOQP1kS36aWj12oigaLxf8Do4Zlo+qmO24Pz6amZaJiKmONHO1Ue6EmcbPgSTkiV1oYJJJTqHl5InLcSS3pMU6WdLo7P4EcS53sL7/mkOydVPNOh8JpMGOteliKhl2GprjVW3DM4hx6/yYYfwAn0uo2Vdrp9XThvomV/svnS8SIgAiIgAiIwIQIfw1F9sHQfq4nGvzqBqzXimJ0ZuJaXp8tIi0J0IiGVeGA6D07g5HwXc1txD50wj8tklqw+ZxUyA0XJ27DJnO8/lt6xiYZUz4PCdBPsdoUV83IY1gybaNiCAyfqjfPfq3/9AxO9mI4TgckSmIq7ebLX0vEiIAKFSYAfzn+EVWcg+w8hjfljpFOLfTtgD4xxzGR3sW3dizCvHdVkzw/C8XfhJiiCbtc7xG/FH8L47F6CbYPdbvjXOHGsMjBeurz2y7BZ4x04xv512PdzY+z376rBxldg5f5I3zrbRrKN5uuwVhiFb6rAsq0gAlkhUJqVVJWoCIhAUAiwOo0fsso0N9SDeFZb7Ya9A2MbsbUwCsDPwVJ5P+h5uwBLFf4AkTw3XeAH829h9PCxYXkJbC7sA7DPw+hBSRXY1ulvYI/C6C0ptlCf5obJk1zOw9bDHoc9CUsVWF3N41KFi4j8b7BDMD4Pdg74IVgFLDmUIuJnYL+RvGOC23yWqcJpRP4ZjF43ljEK2E/BFsBShZ9F5O/DBlLt9MX9PNZX+7a9VVad/nvYn8Io6LzAe/4o7EdhT8NCMIZ+d6G/IiACIiACIpBbAv8Gl6P4SWX8sI8lvOiJ+LcwCj7/+YuxnSo8hUj/ccnrv5vqJF8cP5oUFMnn+bd/1Hd8qtXfS3N+oVez+hlw/TrsM6kAII4CJfn4sbYpwOm9Sg4UzsnP3kunA/vS/UDwp5PueXjpcMnqz1+ClftPTKzPxvJtmP94//oXUpyTHPWtFOfT+8b7Gy9sxQFfg70JSydCx0tD+0VABERABETgtglw2A8KNv/Hz1un92PhBFNeheP2JNKhiPA8Fcmnv544xruGt6TX47PJB4+x/Vtp0mF69B6OFdKJhyCJuTYA2DwWBOz7E5jHP90ygmN+epx0xhLo3zvOudyd7nl4eaIofGicdCg00/W4Ha88MOlU/wY45IiCCIiACIiACOQ9AXpuvI9m8vK+SeY+jOM/DNuY5jxWjyZfw9v+5TTnjBU9lofu7jFOTCcegiLmLuPeWV06XmCvV1aZe88gecl9rEadSHgPByWfz+2JPNd0z4PnU8itgU0k/BwOSpUHVrGybKYLrK5Ndd5fpTtB8SIwHQTGKsTTkR9dUwREIH8IPJ0mK3sR/0aafemi+fHfDjuY5oAfTxPfjfg/T7NvrOg/HmMn2zMVY2CbLT7TkxO4+fdxzEtjHPfr2Pd3Y+z37/qSf8O3Pt+3PtlVijDey9EJnvg3OI5e4eTAqt4lyZG+7T6ssxo3OTySHKFtEZhOAhJz00lf1xaB/CbwQJrs/fc08VOJfjjNyf8T8b1p9o0VzWq119IccG+a+KBH/yxukO3HJhrSCfZ/QAL/ZaKJ4Li30hy7IE38RKLZgWL3RA5MHMO2e2y3lio0p4pMxI1gySYFyWEpIn4xOVLbIjBdBCTmpou8risC+U2AH9rFKbI4jLi/TxE/lag6nLw+TQJTEY5/kSZN9nJM124vzSmBiD4xybtI1+N4sum0pbnuVDxzk80Ds5DOi1ebJn9e9H5vJWn5R9j+A1h1Urw2RSDnBCTmco5cFxSBgiCwOk0uLyKeHRIyGdheLtW7iEM/nJvChdJ5hJqQZrqhOqZwucCdmk7MTfZGL6U5oSpNfLair6VJeDwx9tU05zH6V2CtMFY7q7cqIChMD4FUL9DpyYmuKgIikE8EKHhShUx94P1pz/Zv+NanIuSYTDqPEPeluz/uU3AJpBM/k+XDanK2mZzuwDaDqcJ4Xtrv4KQ/T3ViIm4Wlv8JxvL217D7YQoikFMCEnM5xa2LiUDBEEgnduiZy3RId62zU7wQxQgbyqcKjakiFXcLAfbizFTIZFq3m6fI7Z6I834Z9s4459PT+HnYLhjb530/rASmIAJZJyAxl3XEuoAIFCSBdAIrXZXZVG4y3bUyIRyjaTKWzkuT5nBFFzmBPtw/OwSxjdxEhCmHv/lH2G7YGpiCCGSVgMRcVvEqcREoWAKlaXKeDU9DujTL0uRhMtHp2vfVTCYRHSsCIMDOP78G4yDF22ETCdtwEIfy+dxEDtYxInC7BCTmbpeczhOBYBPgUA6pwlR6IKZKj3HdaXbMTRM/0WiKwXTDTlydaCI6TgSSCLAa9SOwO2BsSzfe0DmsfuVxW2EKIpAVAhJzWcGqREWg4AmkE1gLsnBn6RraT1XMUXima9zOnrK5ChW5upCuk1MCB3C1n4KxnP40bKzBmMux/+9glTAFEcg4AYm5jCNVgiIQCALpBFY2xFw6YTVviiTT5ZVeuVSzAUzxcpaugf14Q19M9bo6f3oJ0DP3P2FsG/djsHRe7dXYdx9MQQQyTkBiLuNIlaAIBILAiTR30YJ4WibDkTSJcciHe9Lsm0j0Y2kOeiNN/FSj2Ug+VUg39EqqYxVXuAQo5v8axtlM2mCpgqpaU1FR3JQJSMxNGaESEIFAEuBo+anaArHa8v/I8B23Ir32NGn+ZJr48aJZnfUzaQ7KlphLxYtZWJsmH+miZ2LHI+l2Kj7vCexHDn83TS4l5tKAUfTUCEjMTY2fzhaBoBLgIK970twcRVJFmn1jRVMIpusly3G5UoUfRCSn+5ps+GGckM6D+C+TTWyCx19Ic9yn08SnimaV7LOwFal2Kq5gCHCg4VQhXVV8qmMVJwITJiAxN2FUOlAEio7At9LcMUXSZIdaeBznHIaxfRw9T8nhK8kRiW0OIfLbafali+aAwL+WZie9cvScZCOkqy5+EBebiEeGQu5rsKlULWfjvpTm5AnMSHNKe5p4RYvAlAhIzE0Jn04WgUAT+DLujmNrpQp/jMgfTbUjKY7Vnf8R9hyM1Y2c1HwTLDlQxFxJjkxs/yqWfwabyPuKHq3dsNWwVIH5zlbgDAHpPC+/j30Ua+kCe0TugH0o3QGKnxYC/NHC5/obsMl4iOlRThXeShWpOBGYKoGJvByneg2dLwIiUJgEOpHtdB4zDrXwVzCKFAq05MDqVLZ3OwH7NzBWsXohVW8/isb/zzsgxfKnEfePsHTjxvGUJ2Gsrk0n5F7Fvr+HZStcQsL/kCZxdsZ4BZZc9csBk/8VbA9sG0whvwj8ALJzJ+z3YCzLvwSj53eswHL/f6Y54O008YoWgSkR4AtXQQREQATSEeBH6WOwdNVG/xr76Dk7BjsOa4KxanQ9rBKWKqRL6z/j4O+BpRM1n8K+j8O+C9sHa4dRVC6EfRS2EpYu9GLHj8LYFjCb4b8i8c+mucBdiD8HYzXvXlg1jFWwy2AK+UmgwZctCvH/F/YfYV+HUYBzbLk2GH9krIL9BGwDLFV4F5GtqXYoTgSmSkBibqoEdb4IBJsABdPPwf5ujNukh59VqLSJhPfTHMQqyh+B7YKlE3xl2Pd0wrCYUBjAUZ+GnZ7Q0VM7iELtBdjjaZKh+Lw7YWkOcaL/CH9/aawDtC8nBLpTXIU/Un4oYSl2p4xiW1H+GFEQgawQ4EtYQQREQATGIvAV7PwpWCa8WuzMcGqMix3FvgdgZ8Y4ZjK7ruHgJ2DbJ3PSFI/9As5/7zbTiOK8n4H9wW2er9MyS+BgBpLjvxuKP3rxFEQgKwQk5rKCVYmKQOAI/Dnu6JMwVhPeTmAV7Edg/24CJ1PQcaT8/w2LT+D4VIfwPHoT2dmCnr5cBn6074U9O8mLHsHxvO8/neR5Ojx7BFj1/9wUkmcP7u+FfWcKaehUERABERABEcgoAbbz+g0YPU8UTGPZEPY/D/sM7HZ/ON6Bc78Muwwb61rePrZf+hKMVZm3Ez6Pk+hJ8dLj8jpsGWyygff8O7ArMH96yesUumx7WAHzQh1WOmD+Y69ie7Z3wBjLz2NfJu6B99wD8+eBnsMfhk02HMAJ/nS4/rcTSCRT98JLfRzGqnx/PvqxTcE/XrgfB7AcdsL856dbP4TjPg3zd/zBpoIIZIeAClp2uCpVESgGAstxk6wSpcBogbHjAwUIBVUr7DUYOx5kIvBdtRnGD+8s2EwYG6dTaLFdH8XeMdg7MH5gpxLYiWMujO3z+LGnN3IQdruhBCc+DGOnELJiY3m2xToNYzXeG7BUgeJuCYxttAZgZ2ETzUem7oHXXgijiKc4vwgj88kGCtvFMIpUCk22IbsAm0jI1L3wWiwz82F8tmTKZ8vlRAPL4QbYnTCWeZZFlnuW+VM+Y3lUEAEREAEREAEREAEREAEREAEREAEREAEREAEREAEREAEREAEREAEREAEREAEREAEREAEREAEREAEREAEREAEREAEREAEREAEREAEREAEREAEREAEREAEREAEREAEREAEREAEREAEREAEREAEREAEREAEREAEREAEREAEREAEREAEREAEREAEREAEREAEREAEREAEREAEREAEREAEREAEREAEREAEREAEREAEREAEREAEREAEREAEREAEREAEREAEREAEREAEREAEREAEREAEREAEREAEREAEREAEREAEREAEREAEREAEREAEREAEREAEREAEREAEREAEREAEREAEREAEREAEREAEREAEREAEREAEREAEREAEREAEREAEREAEREAEREAEREAEREAEREAEREAEREAEREAEREAEREAEREAEREAEREAEREAEREAEREAEREAEREAEREAEREAEREAEREAEREAEREAEREAEREAEREAEREAEREAEREAEREAEREAEREAEREAEREAEREIFiJhAq5psP6r3H4/Em3Ntngnp/ui8REAEREAEREAG7GgqF/p4cJOYCWBog5tbhtg4H8NZ0SyIgAiIgAiIgAi6BIxBz67kaFhEREAEREAEREAEREIHCJSAxV7jPTjkXAREQAREQAREQAXnmVAZEQAREQAREQAREoJAJyDNXyE9PeRcBERABERABESh6AhJzRV8EBEAEREAEREAERKCQCUjMFfLTU95FQAREQAREQASKnoDEXNEXAQEQAREQAREQAREoZAISc4X89JR3ERABERABERCBoidQWvQEBEAEREAEREAEHAJxi8fHRoFBWsc+QHtFYBoISMxNA3RdUgSKgQBmIjF+Gf3fRudDmPgY6pNYDKWgAO7xRhn1SipKplM4Q7dOkZRQeU65TtyWhF0BPN8iyaLEXJE8aN2mCOSUAL6L/B7GbxFu3scypznRxURgDAJeQeUhEG+J8krBFo/HbvwQYby3z9F5ngCkwEucM8ZFtEsEsk5AYi7riHUBESgOAn6PheFDGIvFLBp1l/xQ0kcXCpdYaWmplYTp/XA+i8UBR3eZVwT8ZTVuEG2JchqJjNjI8JANDgza0PCIRRAfD4WttKzcKioqraqq0spKSqykJGzhcBjlmM3O+SPFLcsq0nn1mIsqMxJzRfW4dbMikAUCjhfDkWoQaxBtkWEbuHbJ2s6ftbMXLlt7V5/FwqU2NGjWMHOOrdq40ea1NFh9VZmVel8/6bosPBglmYqAJ+RY5GKRAeu/3mltZ1vtzLmL1nblqvX09tr1nj4bGBy2YUfM4QdIWYVVVddaXV2D1cBmzZ1vCxYstAVzm62hpsLKS5Ga8++AHrxUV1WcCGSXgMRcdvkqdREIMAFfezh8wfgNG+q5alfOnbDjh/bavncP2OH3z9iFzl6IuXLrux6xxeu22odqZ9oD1ZVWXVEKLx3EHz6C7tkBRqVbm3YCrBF1Alaiw33Wc/WSXTx7yt4/ftSOHDliR1FWz7V1WE//gPX10zMXsUiM1ajwwpWUwTNXZdU1tVZV32RzFiyxZavW2Jo1a2ztquW2eP5sm9lQY+UlPi/dtN+xMlBMBCTmiulp615FIGMEEl9GfutYpToyaH09ndZ6+B17e9cOe+m1t2z/0TPWdvW6DUViOKjE+vv6rdtKbH1nt/UNjaAaNpGZm9+/jOVOCYnAKAL4tcGyOtx/zTrOHrVDe163Xbt22et7DtmJtm671tNvQyiXEadgum3kvHZyTvs5lNM4pjMvKS2z8so3ra6xxWYv2WBb7n3EHnjoPrtn82pbNrPGKst45YSnelQmFCEC2SEgMZcdrkpVBAJMAB8qR8uxailq0f4uu3r+Pdv50gu2c9due+vAUTvaesk6eodHMegfGLJIBK2UnPOdr6N7DLdVPTWKlyIyQACF1Sle8B5H+jqs7b237dXnnrMXX9plbx46aqev9NmQUx69a5VZTUOj1dXXON7jcHTIBvp6rPt6j/UOQuyNDNnQQK/1dHXaxQttdu7CJWuFtV19wj7+xH22cmaZVaK5gfdbRcXa46plNglIzGWTrtIWgUAScNsFRQavW9fFk3bi4B5787VX7fkXX7Z9x85b28DNm3aqT/k1o+6DgitBdWsJvHRhR7npM3eTlNayQsD91UFHGazPLh17x1595p/s68+8bK8fOmPtEe+qYattWWRzFy21ZfPn2Lx5c2zmjAarrSq1sNOu7qp1XLkC8Xbezp44auevoOwPQK4Nw8t3fLe93nPd+gYiVtUw02ofXGFLG8txPfcXShzFXCXd46xltghIzGWLrNIVgaAR4McJ3o1YdBiNxq9Y28kDtueVb9uzzz5v/7LjmF3H/cZKyq2yrs6aqqusFMcN9vc4bZAG+UVzQgQeC/53iysksU8LEcggAZRXp7MDepyGQuhZfWG/7dux3b75zIv25tHz1ukIubCVlddY3cyFtvnRp+3Rp560RzcvtQWz4JmrrrAy9rpGaY2O9NvA9Q67dPqI7Xr2f9t3duyxt45ftq7eEXSSgHWetpP7d9m3G+baqvl1Nm/LQitDlS7b26E7LP+XoMvgo1VSowlIzI1mohgREAE/gRseBvrZhq37whF7d+cL9tyz2+2FPahSPd9hA/hY8bDm5XfaxrsesIdXzbCStmN28I03bNe7x+0yxJtb7cQ0HH+d/wpaF4GME+DPBXatcQYPifbawTd32O6337Ijl6/Z1RF0gsD+8qomm79qi33w+3/MPvnE3XbPqjlWVV5mZWUYfsQRgcwWRGEFe7PWWV3TLFu8EmJv2Ves5avfsFcOXbCznUMYzmTAetsu2Ok979i+g/fakiULbVV9yPiBxe8fJiE1BwQK2SMgMZc9tkpZBAJBwPGhhRI9TqM91nXprB3df9De3Lnfjl3osp4Yqk6rFtmWBx+yBx99zB7YstpWVnVb6+tddm5fOT6nCiKQawJOqXUFVLzfIl1n7dAb++3wu6es41ofvGlm4aoZ1rxis218+EP2PR+93+5ZPd9mVpa47TkdBebpL/z4gIcuxOYB1WVWXVdvdz7wiHV3Xraz116zq70XUOUK79xgp13vPGanzpy285fW2oraavb7ccq/mxv9S8h1KSim60nMFdPT1r2KwG0TSHyI2Bi895p1XumyS1eHLVqD8baWrbM7N2+zRx592O7ZtsFWza60SnzUrlaivRFOS3xWb/vKOlEEJk3ghpbDynCvDV49aydPwIuGHx/9aOvG3VUYImf+8g226a677Y6laCOHcQ852DXlVyrZ5cSx2hT+trkLV9uGDVts1e73rbX1ivWgvVwk1m8jQ2h+0NFmbZ1dFltWZei8nQipUvT2aSkCUycgMTd1hkpBBIqHAL6CIXRiqKhrttlL11vjwg22+ZEP2EcfvsvWLsFQDTMbrdoGbLib7ZTYi5D/KYhA7gk48ont5tDxBrWqVtmy0Oav7LZQ/5D1jJRa0wKUXQxgfcfqZdZcjQ4LCByVxPHCccOvv7DujIeYKMzhmiZrmTXfFjXWWUtFiV3C4T1sWxcbtqvo+XoVw/BEE80TmBQDT/Un6UTqjwhkiIDEXIZAKhkRKA4CpVbdNNeW3XGvPT5jk81cv9k23bnJNi1uxnAMMXji8LnCl9MTcPp4FUepyMu7dKpK4UkrrbGK5pX24Pf8gC2+6yHrgtDCkHJW2TjPFq1cb2sXNluF09EBYgvnJGpYk27J9dZ5P05CGES4HNN7sbdrdbnbNo6FnuV+OBJFNW4U65zCTgIuCaQ2s0RAYi5LYJWsCASFAD9wnjiLh6utad4K2/zQfFsTq0B101xrquFrBA3K8RGLcc7KxI1LyAWlBBTgfXiKjOKsrNaqm1fYvU8utm1DGCMO88oNDKKshinIqq0Gs5Gg2LohIerGvWO48CKRCIQblvDmef8+OOROVRnGmcP8wyz/XoWt/i2MS1QHTJGAxNwUAep0ESgGAt7HiB/Ghlk0312zKgubN70a7tHeB853pFZFYFoIsGyWYNicElSnVqBXan2aXHjlPNVurzw7x6D3an8PqlOvDVl3X9Qw7TD+AZRYWUmlzeLcrfV1VgqB6KY3VqqprqQ4EZg8AYm5yTPTGSJQxAT4SYN4w8JtEsRqKc//4H28ihiPbj1PCaDMou2cJ8hcXxpFVqL8jqO3vPLOJfs0DHdfsgsXj9mRrg47MzLiiLlwqBFj1i21hfBcL5wz28Lw8rndKVwk41wiT7kpW4VCQGKuUJ6U8ikCeUHA+wDyM4gvm1edlRd5UyZEIB0BiDaIK6/BQPzGINYUc+nO8eITEhDHhdGpxyDdWo/tt7d37LRzZy9Y/yCmrQthHLrmWTZ7zTrbtGm+rVpUgj6vGP/E6f067gW8C2kpArdNQGLuttHpRBEocgLjfwWLHJBuP/8IuMJq4kXX9ULzpwub00UxtVfPqZ32xqs77KU9J+xMR69hVBKMs9hosxevsq2PPGzrV8yzWaxihWD0ZNzEr5d/xJSjwiAgMVcYz0m5FAEREAERyCUB1Km6DjxIMjjkRgYwvuK5Q7bzn79u333lLdt75qp19kYsVIrhSTDu3Mat99hjD2215S2NzswPsYSUk5DL5UMr3mtJzBXvs9edi4AIiIAIpCLgNgh1GobGYhEb6umyy6cwt+vO7fZ333zZ3jxyxtp7RixeUmHNi9fYxnsfsg98ADOgrJ9rLTVsVZeYMcVzzaW6huJEIIMEJOYyCFNJiYAIiIAIFDgBeuTYNA7t46KRIevrbrfzR/fam6981769/Tv24t5zdh1Dm4TLqqxx3mrbfP+j9sSHHrdHH9xoS2a4gw+z54PTXK7AUSj7hUNAYq5wnpVyKgIiIAIikFUC7PEKJYcGcpHhfuu+cs5OH9xtr373GXvmuV2248hl5+qh0kqbsWCNrX/wafvw00/aUxBy6+bVYZ8nBG+2l8tqdpW4CCQISMypKIiACIiACBQ9gTjmZaVHLgSXWshGrOfCYdv70jP2rW8+Y8++8b6d7cS0EYlQv+AOu/OpT9tnf/Ape3jzMpvfUAVHXgwOOU5jhzS8A7UUgRwRkJjLEWhdRgREQAREIA8JQMHFYKEwZi/h0CMD5+3gqy/YS8+/aC++/o7tO37O2q66Qi6MqcHmbv6wPf29H7OPf+h+27R8LgYJrsDYc/TnuT1e8/AOlaUiICAxVwQPWbcoAiIgAiIwmkDcaRyHWlUIOYv1WPeZw/b6S9vtpZd22e59R+3o2Xbr6BvBieXWOH+Frb7rEfvwR562D96/0dYva7H6yjIIOfZ2nch4daOvrxgRyBQBiblMkVQ6IiACIiACBUOAfRwY4ujkMNLXYReO77E34ZF75tsv2f5j5+0sxpDrHQlZeW2LzV+61u649wP2gSefsifuWWWLZtdjDtYSVqqiWlWVqi5J/Z1OAhJz00lf1xYBERABEcg5AXrkOBtEZKjPejsu2LnDb9jz39luz+943Q6ebMewIxEbCVdZ3ez5tmz9VrvvoQ/aBx+8z+69Y4XNaaq08hJXwCUceznPvy4oAskEJOaSiWhbBERABEQgkARc8UWfXMwigz3WdfGUHd//hr30zLO2fceb9m5rlw3C0xYrbbJZi1bZ+m332EMfeMQeuW+bbV4x35prUB2LRDwRJ69cIItJQd6UxFxBPjZlWgREQAREYLIE6E+Lx6IWH+m1qxeO2oHdr9gL395u33h2t53uGbaRUKmV1cy0eUs22bYHP2iPPflBe/TeDbaspdoqMRZwPOYOIKea1cmS1/HZJiAxl23CSl8EREAERGDaCcRi7LGKytXooPW0HbF3d2y3b35juz3z0h5rGzTDFKtWCiE3e83D9olPf5995LH7bOvKudZcHbYS9o+AQ8/pKDHtd6IMiMBoAhJzo5koRgREQAREIDAEoMJQL8qhR0I2YINXDtuu7V+zb35zu738znE7P4DdvNeK5bZ46xP2kz/3WXv0rnW2ck6j1VfwHHjj8NcZQC4wTHQjQSMgMRe0J6r7EYFpIsAP4nj9+jgaF4ZmxX9OhRfO4FkTOXOabkqXLXwCGDYE/zslzhkI+Pl/tu9892XbeeCUtXahyjVcY+G6hXbX45+0T3zqE/b0w+tscXONVZeip6rTOE49Vgu/EAT/DiTmgv+MdYcikBMCyY3BUws7xuLj6OTIOwJLbzUnOdVFioWAM44cGrg5fVcHTtmht3fYv2x/yXbuO2lnOoYtEq61+tkrbMU9H7Ef+Mwn7WOPbbF51XDSoVrVEXI4V0WzWEpLYd+nxFxhPz/lXgTyhsANMceR9FmlleJDyDjuo5XA+KVElIIIZJwAhRwda2gmhwZxg3Zmz2u2e8er9ur+U3bycq/1RyutdtYSW735QfvUD3+fPfHgOlveyGpVBREoPAISc4X3zJRjEZgmAhiXa2TEIhFa1GkQ7s9IPBq1cHmFhSL9NtiL8bsGBm0YcaxE9UIM5w719VpfX49d7w2jKgvf2UjMaZjuHcNlKFxqpaWlVl5WamG0PtcH1k9H6+MT8JW62IBFu1tt7ys77K3X91nrxS7rGY5ZaW2DtSxZaWs2b7H7N863uTUx679+zSLObA5TKHGhEpTdMquoKMePFuf3yvjZ1REiMEUCEnNTBKjTRSDYBNz2bayoMhu0K2fet9ZTrXb+Uod1D0Go0dMGc7wgGLYhVFaObn+ovuo8Yyf2H7WTnddxFlvF8eMYt95r7XbojRetovO4HWystnJ87CIQfI4XL5EOhWJN0yJbuHiFrVoxz2Y1VllZKQ6km0VuvGAXtwzdndPUDWUuZCijfZft2pndtuudA7b/+CXr6R9xSnMJhhqxeL/1dLba/leesVOoW40MY18IZW1SwS3bPCWEyb1ipbMwY8Ryu3PrCmushqjjdRREIMsEJOayDFjJi0BhE4CASrQej8d77cQ+tDn62rP2yu6DdrJ3yGL48JUkRNjN+4QAhECLDA/Z4NCwDWMHJSHD1Uun7fm//zN7rQxzWqL+y+//CGM7BkE4NDhkLaufsEc//Cn7/Pc/bA21cxwx57V/8p/jJKo/IjCKAEoJ/ue4cIPX26ztxC471HbFTvdGbYidUxGGezvs3KHXrP34W7bzG6VOWYzHEz1X3UMm+Jcl0i3fFqqy4cqN9ujHPmnNyxbb6vIyK4M2pDzkEfotMkGkOmzSBCTmJo1MJ4hAsRJANVTPdeu6gumOLl+yjsHEB2wSOGKRiA0iDXrrxgqxy1eto7PXBgfhKXHdLGMdrn0ikJZAZBjV/tfP2xCWIxwsLhHiUUzZRRvst14vcsrLKqTQjh8t3TY4ErUoyq7rlZ5ywkpABMYkMFl/8piJaacIiEDQCNzqB3M6L3AE1VujM3/T8AY6beWc1utu8tm+ZOZvQinmAwG3Y07IRlCFyoGDsxsw9DCbBJSXOE0Hsv8PJbt3o9QLh4A8c4XzrJRTEZgeAgkVFbJKm7tivd31aK+Vz11lF3pHLISGR6wunar3jNVP/OjyY9vfN2QzFt9pW+/CpObNtVZG8cigOiqXg/5OiACLLdu/ldViFoeVj9sHPzTX5q27jnKE3tQZLUvOlXg1FNESVLOusDvuWWsttaVOeznnn493yIRyroNEYPIEnHI2+dN0Rj4TwId1HfJ3OJ/zqLwVIgG0Z+vvs4F+jKKPtnCssnK9Hpm9F7ZzCpdXWWVVtdVUV1g5erX6HHSZvZhSCzgBDFIdRYecoV67dn3IhlD1mY0y64cYD5VbZXW11ddXo70chaN/r9ZFIKMEjqA8r2eK8sxllKsSE4EgEwhbRXWdY0G+S91bkAiwuh4/CPCjoAWDASuIQFAJqM1cUJ+s7ksEREAEREAERKAoCEjMFcVj1k2KgAiIgAiIgAgElYDEXFCfrO5LBERABERABESgKAhIzBXFY9ZNioAIiIAIiIAIBJWAxFxQn6zuSwREQAREQAREoCgISMwVxWPWTYqACIiACIiACASVgMRcUJ+s7ksEREAEREAERKAoCEjMFcVj1k2KgAiIgAiIgAgElYDEXFCfrO5LBERABERABESgKAhIzBXFY9ZNioAIiIAIiIAIBJWAxFxQn6zuSwREQAREQAREoCgISMwVxWPWTYqACIiACIiACASVgMRcUJ+s7ksEREAEREAERKAoCJQWxV3qJkUgBYF4PG40Bm+Z4jBFiYAIiIAIZIhAKBQyGoO3zFDSRZ2MxFxRP/7ivnn/S6W4SejuRUAEREAECpmAxFwhPz3lfUoEotGojYyMODalhHSyCIiACIjAhAmUlJRYWVmZlZaWyjs3YWpjHygxNzYf7Q0wgcHBQTt16pRduHDBhoeH9VIJ8LPWrYmACEwfAdaCeM1aysvLbebMmbZgwQKbM2fO9GUqYFeWmAvYA9XtjE0gFos5B1C8dXR02M6dO+21116z7u5uC4fDEnRj49PeaSYwXttOtUGa5geky6ckwHLJmhCGhoYGW7dunT300EM2a9Yso5dOYeoEJOamzlApFAgBCrmhoSHr7e219vZ2O336tL366qu2fft2R8wVyG0omyIgAiJQUAQ8zxwz3djYaG1tbVZRUWGzZ8+2ZcuWOVWuBXVDeZhZibk8fCjKUuYI+D0ZkUjEenp67PDhw7Z7925rbW21999/3yjy2H6DvxDpnWPwn5e53CglEbg9Ap7HjeXSa+vpL6Nse0RT+b09vjoruwRYfvme9crvuXPn7OWXXzY2dfnCF77gVLtmNwfBT11iLvjPuOjv0HuRUMx1dnbaK6+8Yl/84hcdDx09dfyFyPYbTU1NxvYcDP4PZdEDFIBpJ+CJOZZXNglgO0+uM1DAtbS0WHNzs1VVVUnQTfvTUgaSCfCHsld2+Q6mmDtx4oS9/fbb9ulPf1piLhnYbWxLzN0GNJ1S2AT4C5HCbmBgwPFm0M3/1FNP2bZt2268VLz2HfyIStgV9vMu1Nz7yx4/hiyHbOf57rvv2te+9jXHs8ze2PwR8sQTT9h9991nixcvdrzMnhfEE4Eqw4VaCgo33/7yW1lZ6ZTd/fv3Oz+mDxw44Ii7vr4+x2NXuHeZPzmXmMufZ6GcZJkAXy40ejJoXOdHkm04Vq1aZXfddZfNmzfPyQXFHPcriMB0EvBEGMsr19nWiFVT9fX1Nzxw/FAuWbLEtmzZYqtXr3Y8zclibjrvQdcubgIstyyj9CbzB/SRI0du1IDoHZu5siExlzmWSqkACfBlwrZGrGplFRVfOgoikK8EvDLKHyFeoNBj8wDuo/mbCuhj6VHScroJ8N3K96zGlsvOk5CYyw5XpZrnBDyPh/9jxzga4+jZ8O/L89tR9gJMwCuTvEWvjPpv14vzL71j/cdpXQSmgwDLJX9weN7i6chDMVzT7bpXDHeqexSBCRLgy0dBBPKZgL+M+kWcPz6f86+8FS8BldHsPHt55rLDVakGhIC8cwF5kAV6G/zwTaYM+o/lun+7QBEo2wVOQOItNw9QnrnccNZVREAEREAEREAERCArBCTmsoJViYqACIiACIiACIhAbghIzOWGs64iAiIgAiIgAiIgAlkhIDGXFaxKVAREQAREQAREQARyQ0BiLjecdRUREAEREAEREAERyAoBibmsYFWiIiACIiACIiACIpAbAhJzueGsq4iACIiACIiACIhAVghIzGUFqxIVAREQAREQAREQgdwQkJjLDWddRQREQAREQAREQASyQkBiLitYlagIiIAIiIAIiIAI5IaAxFxuOOsqIiACIiACIiACIpAVAhJzWcGqREVABERABERABEQgNwQk5nLDWVcRAREQAREQAREQgawQkJjLClYlKgIiIAIiIAIiIAK5ISAxlxvOuooIiIAIiIAIiIAIZIWAxFxWsCpRERABERABERABEcgNAYm53HDWVURABERABERABEQgKwQk5rKCVYmKgAiIgAiIgAiIQG4ISMzlhrOuIgIiIAIiIAIiIAJZISAxlxWsSlQEREAEREAEREAEckNAYi43nHUVERABERABERABEcgKAYm5rGBVoiIgAiIgAiIgAiKQGwISc7nhrKuIgAiIgAiIgAiIQFYISMxlBasSFQEREAEREAEREIHcEJCYyw1nXUUEREAEREAEREAEskJAYi4rWJWoCIiACIiACIiACOSGgMRcbjjrKiIgAiIgAiIgAiKQFQISc1nBqkRFQAREQAREQAREIDcEJOZyw1lXEQEREAEREAEREIGsEJCYywpWJSoCIiACIiACIiACuSEgMZcbzrqKCIiACIiACIiACGSFgMRcVrAqUREQAREQAREQARHIDQGJudxw1lVEQAREQAREQAREICsEJOayglWJioAIiIAIiIAIiEBuCEjM5YazriICIiACIiACIiACWSEgMZcVrEpUBERABERABERABHJDQGIuN5x1FREQAREQAREQARHICgGJuaxgVaIiIAIiIAIiIAIikBsCEnO54ayriIAIiIAIiIAIiEBWCEjMZQWrEhUBERABERABERCB3BCQmMsNZ11FBERABERABERABLJCQGIuK1iVqAiIgAiIgAiIgAjkhoDEXG446yoiIAIiIAIiIAIikBUCEnNZwapERUAEREAEREAERCA3BCTmcsNZVxEBERABERABERCBrBAozUqqSrQoCMTjcaONCqGQhWijdihCBERABERABEQg0wQk5jJNtFjSo4hLGCSdc9dxyDeJuGIpALpPERABERCBfCEgMZcvT6JQ8uF44lyPXAx5jsdjCe8c/XCMQc19OGyhMLblmiuUp6p8ioAIiIAIFDABibkCfni5zLpXnUrPG1VaKDRioaEuO9d60bquD9qIlVgsGrbK6lpraJphM5obra6qzKjp6LeTrsvl09K1REAEREAEiomAxFwxPe3buVfH84YT6W3j+fGIDXZdtHMnDtned96y/e9dsMsQc5F4yKLRkM1ZvNLWbbvXtt29zdbOrbfyEnjqYvDY4XwFERABERABERCBzBOQmMs800Cl6LSDg3stHhuxgZ5r1n7+pL1/4C1749Ud9vxLr9vxyz12fditao3H4rZ8y/02WDPT5q/ZYKtm1xscdq5rLlBUdDMiIAIiIAIikD8EJOby51nkUU7cilG3eVzUIsP91nX5jJ06vNd2v/aavfr6Xnv3vdN2+Wq39UW87g9u9gcGIzaMuBg8dc75jFYdax49W2VFBERABEQgaAQk5oL2RDNwP44IgwCLRYdsAFWqp48dsHf3vGlvv/WOvbP/qB1rbber/UMQaa5K41+3PyuiWB0bYpWsFFwGHoWSEAEREAEREIFxCUjMjYuo2A6gLIvZ0PVOaz93wg5DxL35+i57a9+7dvhUm13qgSeurMFmLai3eQ2l1nn+PDpA9Fo/TmNfVtTHQtjd6q0rNoK6XxEQgcIhcKMGISnLid+qSbHaFIH8JCAxl5/PJce58vxq0GLxqMUifdZ29E3b9ew37Wvfed0OnTpvl3sGbKik0spmLLS5y9bblrVL7d65cdv51W/YPoi5NuQYvrpEuJmeF6OlCIiACOQbAQo5WrJw8wu85H35dg/KjwiQgMScyoHbtg1vrBC8ahZBz9Tuc/bujlfs6//rW/bmxS67hA4OVlZtsxaut00PPm6PPfaQPbRyhs1uP2DnnnvejvBleAvHW7du2aWNwBKYyAfQO0YfyMAWg3FvzCsD3oG5Lgve9Xldz7y8eMvkPPGc5DjvWC1FIB8ISMzlw1PIhzzgZeW0fEOv1ehQt106e86OtnZaB/R+/awVtnLLNrv7AYi4Rx6we+5YZksqrlvP2+9ZKUYccU7Nh3tQHqaNwEQ/dvogTtsjypsLJ5cBT1wxg8n7spFp7xrRqFl/n9n1HrPeXvyOjbhXK0EP/Opqs7o6s9pa/I4tu5mviZbzbORbaYrAWAQk5saiU4T7OBQJejFYaVWNNdQ229I5623dw4/bB558xB6+Z4OtXjDDqksiFu3ss76RYRtx2shJ0BVhUUl5y8MjcRscitnwcNxGRlAuYixPGKGmJG6VFSGrrAzh4xjCYNKIVCgaAiMoF0MoExH0dC8pSZSDxNeHA5F7gs5bemCyUUxYLvsg4q5cMWtD+xBaZ6fZ4KB71fJys6ZGs5bZZnPnms2aZdbQYFZRcVPUefnTUgTyhYDEXL48iTzIh+thQ3VruMwaF660zR/+lC156hO2ZfMaW71ops2qq7DyUBQfaPykxReaH2QNBZwHD24as8CPL2cHoYjr7Yvb5faoXbgYtbb2mF3vNog6CDkUkuqqOD6MJbZgfonNbglbfR1mC4GwK8WHXSGgBPhCweNlGenqjtnpMxFrvxKzcoj5xQtLrHlGyMohkCrKwo7A47jiztzOiXNYMpwkMlBEmAcKw/5+V7wdP2528qTZpUuuZw6/SzHouZtXeubKIOjonWueYbZokdnq1WZLlpg1QuQxZENkuinrrwjcHgGJudvjFqiz3Cm6eEt4m5ZWWWndItv86NM2Z+OwtSxfas1NdVZXWWKlIfeNGEITOk7ThUZ2huHkFIqUAD+QnNyj61rMTuFDfQwfyMuXwtbTXWZ96N48NITxBrGfHz5WVZ05FbY6jCM9syViq1aGbcniEps1M2xVEHUKwSVAsT8Er9eVy2E7ciRk17rC1tgUt5mzotbcjOXMEnjC4taAslEHkV9bXeKIO0+A3SCD8ob/bwnjiSovDR5HIff++2YHDpidPmV29Sq8cei1xTLK47xAURcdwA8R7OtD9WtXl1lHh9m1a2abNrleulJ8Ob20vfO0FIHpJCAxN5308+7a8MqVlELPNdmiFY02bxmrxPBidZSb+ya9+dnl28/3Bsy7e1GGskHA+4BxyWqzjs6oHT0etX3749Z2scQGesMWjdBfi6ozlo9EERlGwemFp64DnplLF8P4OMbxMY3amtVxWzgfgq4q7Mz45qWfjbwXYpoUIWRSuIGZh0EwDQ+FrRvC6Py5MKo44b1FOaipjTtt0xrg8WpqMpsxI+Z4w2oZj/ZqM5pKrKIc7yW+eGBYc1B4TLwlI5OFnX8fBVprqyvk3nvPFWiM4zn+mQY93jyXRs8yq2AHIO4iOJ4ijoKuHsKTgcckX9fdo78ikFsCEnO55V0AV8OAv3i7sfoDNQ0331Z8uXm5d9+n3paWRULA+ziyHAyPxKzzasyOvBexvfvMjh2D5xZzt7leXvfj63x4fWXF+ejFS9DoPGyn3o/a4ADa1uELGQrHbdECg4eOIlDBT8ATFWMJBo85pU6+BufdwezhRkJ058dKbBCesgF4vtovseo1blXVcaupp4cuZg2NMbRVC6FaHt7c2pjV1KB8VIUcYVeGrxarQkP8kZmoGki+c6+skgc9b+zgQBFHzxw9bezsQKY071hv3b/N87lNr965s/Aw49pz0I6O7efYts47h0sFEZhOAhJz00k/z6/Nl9jNKthEZvnSwstRoQgJsDxAb0WjbB8Xs3PnY3bocMjOnA5bfKTUQvi4hR0v7hhsWH7wAR4ZLrFLbTi+NIq2czFrrGd1K7rf6KuYBI+S2JFCTnwqzUBk+YzNybPzh8/XLUMsJ1znOyYeC9sQvF5DqNbs7o5bOzrLlFeErRqeOVa91tRFUBWLNpezw9aMavl6p5dpCO0w2dbObZPJcsl5Zxg8MeZs4A+9auzkcPq0W11Kj5zbPu/WY5PP4/keWwrCnutoKtBqduG8m68ZaE/H6zO470p3XX9FYDoISMxNB/VCvubN70oh34XyPgUC7JlI7wZGr3GqzHp7SqyuJoT5eG/9OKa7RAhtLctRdUZBd+UyP5BxW7II3pgG9HJEj1eFmwQckXYDSRwihIIoBtmCjkhxdyyNeIzLKNqxxhL7b54/rWtOviHakGeKJ+p8RrGc0EqxEcYXCP5cRwxRMMXQ+3kYt8M2duxA03Yhhs4IJRgiBB47VMU2oG1dUxOqYptD1gKBV1sXdzolNODHQDXa9Xoi0btvR4Rh6JEzZ9w2cqw2TSXkvOOTl55I43MYQb564OG7eMFs3jy37ZzjIeRNKYjANBOQmJvmB5DPl3c+JPmcQeUttwScj1bcBvChZYPwtovwevThA8q5eLlvgh7bODxzPJ4+p5EhCDq0ozv2/gg++jF8oEswJ7Db3k7lj+LY9+sJ6+0YTqOnv9rKKxdabQNmZRkatqra2TY00mQdXSV28VIU7VxdkcfCMZ2eTj7nMIR7FIrq8pW49fRBgkZZXlxRx1ujUdg5AfFosuuIPG47++C1s2jYrl1FdWw7WmFihpqKKgopdJxA54n6GRGbj2rPBegpzZ6ntbUhVMeiGrQcTUXwg4FijsOQsNcqhyTxyhTTnmzwzuUPGVbbMm0vbrJp6XgRyDQBiblME1V6IhAwAt53z/tw9fbHrL0jYlfQicHwca5AVVMUHzbvuIncPj+m9JBw0pGOjqi9/U7Ujp+MojE8esCiGswL1IjFHDymXru4gYFydDpZbc3zftzWVnZBHMVQ7VhnV7oX22u7m2z/4RFwpdeO1JxRI6cFn5tvV7WxI8xgf9iuXyuFZwtD0qBnMzvOM4/Joio5zilzKF8V+FK5XluIfbS77EXP0u6rSCBUYkch3ui5q6obsTlzYrZwQdgWziuxllkom/D09g+E0D6TQvL2UHh58so/vXsRCMPkvN9e6jpLBDJDQGIuMxyViggEl4D7ZXbcKVxl4/EBtG8aGIDwYgQ+tt4hk4HgfhzxkR0usx54lfp7ME4dquT0kfRTpCCjpIX6gZcrFisH/xprqmnBcEFQFNyDur7oYKVdvgChx3q/OI6Fm9TpTeyc6xw2DX9cMeeqNnjJ4GGLRRDH7CFM5jk7xxIDaYADe5WWIiF6LqMQV+wl292NXrIX43b0UMyq6yM2e86QrVwVshqox6qqihvt25jKZIIn4ngO88Ex6OhB9MdPJj0dKwLZICAxlw2qSlMEgkTA+Yi6N8RVfsQcw4C/jm6Ax4PxtyPomCq9c0Mj/DBP7gPPc4snuKIuBE9UOFxhleU1jmeT98/qPnqdBjFUTAwQyZFSJ5+C02YO9atOFauvPE0oj155w8HOvaFdnXPP7o06SbCKvhSdaWrRYYJt6xoxIPEsDE7dMhMdJVDdOtgCIkDC87x2br7Tx80GyzuP55IDB3OaL8eznCj0jFcQgekkkF//4qeTxPjXdn/ujn+cjhCBQBLwPmYckqGulkNGRK0XbZnYMJyeisl8HP2AONVXWWUUH1k2lPf33fQfVezrVLr4H2pkJDKMdov9GANt2GFeivEyqtGQrBrepzAehFMl6x7uquw8QEfBzvEHYxDt7OQwGYchyxWr3r32g+wEgklqrLwU5aYC7ebqQs64bzWoop+JqbdmonNEUyPmlK4vQW9Y+jVxPVy/uRmdKtAj1ZlmDml6Am0sPP5jKAIp4jg0CQUjt73g/dvwtrUUgVwTkJhLTxz/9O1nYXfCtsIw0pGhcsneTtguLF+CKYhAoAnQ6YBv3w3PRDXGg5s5Iw6vh1utNYDZHir4ycSBExF0/vRK8EGuw7hiLXPRXq6egm5iaQQaeMqbIzVUbWPAszaM6XIBg6a1X76CgWwj8BQ12NpVa2zRwoUQGQ0QxFQZ9NBRsTinTdMfXBz/x1EXP4A2a10dJbBS6+9F/1VkkZ4tL/jLjX+d98Hg9uJF9Sp+SFTXUMDB0Amiui5m8+aEbR6GLanh7BHoVfSuUQcAAEAASURBVF3tjEeH+aXxdXPKE84nhgXzMcYcfnxcRZUsPXQOHubPvYRTfnktf+A+bz+F3MJFsIUQc/AA+vMvz5yfmtang0CQxdw6AP0sDH2cnH52R7D8E1jiny7W0ofHsOvLMHRAHxU+hhgaw5dgPwejyFMQgcAS4MfQ/YfDSdIx+Ti8H/PmYYy5Vow514v2WRgEll/M8QSd89FjYvC08J9lZVXM5i+M2x13YKiJ2axCxHXwoWXgYcUePCHhKo24dXYM2r53z9jOnd+20yffd7xz8+bNtru3fsLWra2zRYvrIWJIDoaTp7U3K/LA9m1RiLnODrMTx1EVjPl7uzHkCKZjvVFWvOfM8uUXT2wjaOjMUY3BhGsxthxnXWAv1hmcCgzVp5zbtaIaY881hWxGgzu/a3KpYXqs2uWgw42YYYLLa7g+q6X9Aix53csHlwwcJHg+xOCmDfDMzeYA196/h1vTcY/WXxHIPYGgijn8s7VXYHC63xK+ja3Tt8SM3vg+RP0jzHvHjD7iZsxPYHUj7FMwjD6kIALBJeB98DjPamMjRueHh2LBwijmr4xbX0/YmX+Vo/LzOO8j6KfBf1A0tuti1WxlTdRa0PtwzZqQbd5QhjR9rhr/iVpPEMAQHxA1F8502VDPfrvWfgAzcUDolLMzxDZbsmDY1qwsR5U33Fc3wkReYzcOztIKpnpDb9PrnTFrRe9SdpphZTqrP51e0AnBROHHoUzC5XGIfE50jx6qqMpvxnhyc2bjxwM8cDPwZud4hPXwwlVwOoak4IkwRnvldZBD6Vxx51Z15mLF9bzy6T8+KSlnk9696mp3XLlNeNNvhNFD5xTkRL5Tnac4Ecg1gdH/GnKdg+xc7xeRbLKQO4q41nEuh9YQ9kXYZN6A9+D4r8O4VBCBwBLwRBrn6q2rLcFAvyHrQ7fW/qGIvbsXVVoYAbaUB/m8Ln4Y9JA4H0/0aIzGR5yJ1tetN1u/FlVkqB6j6y+C2SXGnUXCn2jA1712Yp4woQiOxtgurgrj8sFdhEqBULgKAqkC7EockczZEDyx4p2Xa0ze9Vk9Ss/ccARt/eANo9cV/WacZ8x2cCNDEPYY7LgC+rMG4q0O1aZ1GDtu4aKYrVgatiULy52ywflZS3Gi52lk+qwqdQLS433if3fTW8EW28edPWv22mtmR1A3Q68gvb/O8d5xSGcQPWK9wLRL4WimoGyeabZyhcFzbLZ8OdqKQkx7YbrYetfXUgT8BIIq5v6V/yYT67+F5Xi/pf4Ux7BadrLhbpzwYdj2yZ6o40WgkAh4HzC2RWpE4/JNayow9EMEo/KP2PH3MF/rFQgKzOxQCuVG0cfj+XHkR3wwwq9kFNVdEduwOm7r14Vt1YoSVNnieFQN8h9nifPBLiQi2c2rww5gXO6umHGZUsmQGNvGcVw5rt8UKd5z8pbOzlz/YZbw/KGdnIDmfTY4GLJuDEFTifFEKJTmLsL0XI0Ra2mB92tuyOa0lKA6Fb11KzkPK6s30QM2Ib44CDFv07snf5s1XsC/j+vs7HAcVbv79pkdPIj5hCHYGM+yu2CBaxRnjOdgzPTgMdDz3NBgNht5mouf93PmuNtsXuC/hnu0/opAfhAIophbDbSoALolnMHWP90SM3oDrSHsE6Ojb8S0YQ2/62wVzHs/3diJld+BScz5iWg90AQovDhP5opl7nRLi/CBbGtj+6ioXbsWw8j7bnUqP7rV8HI0oF2TMw0TqswW4yM+F23kGhHHkfq9D3Sggd3mzaVmQ6XkBlfIeeLOi82XJdQcqk7Z27m2IWoLl0ZtJp77jJkxm41yMAs/nWtrSp02cXXolVpbHYKYCjueO94hzr4ZfBvJTCiyvMD2cFcgzijkDkDEnTrlCjV66SjSliwxW4cW1VyyypTjJvZilggOBMxAscc2ctxXW4P2cahm9QRl8nXdM/RXBKafQBDF3H0psH4Zcb5/7imOMPuVlLF4LyCeIu+NxH78XnOqVR9IbHsLeucege3wIrQUgaATYJUohymprChzGqZfW4p5WzEyf2cXPCPwwAzjA8kPIXsZzkRDdYq5hoZSnOPOwypP3NglhOLBL1TGPjrP9iLvDCHU+7IKdREEfF09eqRiCJpGDB3CHqE1Vex1iipUGMuJK5rcExOnu4mM8dfvLaOX7fJlV8gdPox2NWfctnJMi+PDrVxptgE/25ctc4cq4TA7rK69UWXr5Nf1/nn54VJBBPKdQBDF3KIU0HekiPNHweFvP+SPSKz3Y/lR2Nu+fe1Yfwy2D7bWF8/VO2DjXSvplALb5FuRlgi+VS/Kv/tGnFYCSgAFIAzFweqw5jJMhg5P3ZyWOOYMDdnQcNhp4E5BUl7mijceV4Z1nsOyg5ozhTEIFKyQ890Tn39tTdgWLUAnhrnw0kEc0RtLAcf2c1Nxy3pCjksKuQvohkaPHEZusTNn3HlZeT32YqU3zhNyTehIQSHHvHlp+LKsVREoOAJBFHPJHR/4UOBoHzN8DnvhWB8V/ggxfiHnHTCElT+E/bkXkVji914www23Jldg3ra39O7a2cbbETUrN4N//Was1gJEgB9ECjR+IPmhprfuZinhjfKrzYLApbvGc3xRTrz+BJMABTztZpm4WQ68lwmF1WSCU34SJ7C92/nzbieHY8fcdQzJ51SZUrgtXYoBQzFi6JIlblUre6kyMA3PvOtz21vnMf51biuIQD4SCKKYQ/PVUeHaqJibEXyF/OTNzRtrvVijYEsXvoYdyWIOr4zCD15jav+dOHHO25O4OLyE+xL0XsS3HOtscGZI92sdQ+v3cFoXjNpL+dkV6jo/eE7x4CNHcD+AbllxY7j/5raz/+amd4iWgSfgdmJwbjPx/KcilnjuwADEGzxy7OhwFGMWXLqEPr74uc12b07V6gqzu+9xhRw9dAyeYOP5yddP3nbP0F8RyG8CQRRzqbxw7BCBVjwpwycQuybFnr9GXGeKeC+K6VHwoZnsjbD8xlqBrlC0xdCAZLSgS6g3tH/hO5ijRDnT8iTuM/FeTmy5Is6J89IbxcN9izptZJwURx2giAIjMN5HcLz9BXa7yu5tEshEOaAY89q6tbaa7dnjdnboxs92doCgkGtG54oNG+K2FR65lSvdN5RfxN1m9nWaCOQlgSCKOTjZR4X7EHNgVKwb8Ztp4pO9bqkOQyuNW0LDLVsFuMFxnErYnWvMUGol6OLVWFVv1aVlGFsMByc8MmWcJ7K20mrqq62q3E2njHVvCiIgAiIwBQIUYgyeGKT3je3jdu92q1fZ2WYYcZUQcvPmmm3ejEbMm0POzA3J57op6a8IBIdAsYi5/wuP7K9gyeLrdxC3FZYc3kREOvHnHYum3qPGpLvq7SycJStD3cbo0eig9Xa128n979qpc5ftykDESsowj6In1ryftZwdre+a9Z59z3ZfvGJX8JJF734ndF0+b/t3vmTh/mt2eHadVaC3YwTDvHszA7hevxIrr262lvlLbMWKxbZq0QzkAInwf1zM/Q1dOASVUxEQgewR8IQYr8B3ET1vV/GmPXnS7E28qemZY/u4GF5CdfVmSxZjIOr1bmeHltluD9kbr67sZVMpi8C0EgiimMM/cUdb+O8N/7ztBdiPwM7AWmA/BfttWKowVls57/hUnR2ueDsLb4mR2qP9dq3jrL3zwjP2yluH7cT1ESspdzE6Asv3RoxHhmykt8vOtl91Bt/D+9UJ3R2X7L23X7f2U8fsjZoy9FaDTHPn73FfxBEcGcao7k3Lbc3mh+3JklpbDjGH+dYVREAERCAlAecHJfbQG8cx5N5/H7+28XObgq6nBx0d0N+GY8itWAUhh16rq7CkkGNHB99rK2XaihSBIBDwC54g3A/vAc52+yrsM9zwhYew3gqj4GqGsbtdqoDXg7Fzw3jhiRQHoBluAQbnbQcPXWzEBiHQzh17z47s32tHeqPwqLmYQjyGgeKMS3RqiGM+nhFM0+MPw/098Oj12dXLFyyMWlanhR1PSLjbYhgGPlxaZbWzRixUt8K2dPa56SU8c64b0J+i1kVABIqZAIUcXz/ssdrWlhh65AiGKDjtdn7gK4pCbvVqeOM2YtqtZe40XF6P1WJmp3svHgJBFHN8er8O+x5YFTeSQqqhS/yH/N/YgPto3PATKY54PUVc3kf5tBa0FMcAC2PE9lJnJPb0mYdSC5VbOabdSei0G4d6PV+ZbnLgi9dNG+3u8HPa+8XtqL3khJJP1rYIiEBREPB+O3o324cZGijkOH7cURiHIWHVKl5VNgujhK5cYbZli9mixW4PVr9H7uY7xktNSxEIHoGgirlzeFT/BfZbk3xkX8bxfz+Bcz6EY/A7cFR4dVRMAUS4GoojsKPjQuNcW3fvw9ZXv8BWDEadscO8Wxjdw9XbM7Gl+wub7efKraphkS1etdoWzW90XaTMRCr1N7GkdZQIiEBACVDIncMb/Qi8cRRyFyHq6KXjXKn1aCO3DkO3U8gtXuIODswfjBSDEnEBLRC6rZQEgirmeLP/CbYSllzdyn2pwtuI/NlUO5Li8Kqw/5wUx813YXjVFFq4Oc5baVmtzZy/2j74mR+3rb39mBgd48OhA0MmgysIIRxLK62qth5zc9YZfHw3hFxmr5bJnCstERCBXBDwvHJcUrSdPm128CBerhBzVzrcuVQp5DgY8KZNrpBbutQdIJj5k5DLxVPSNfKNQJDF3ABg/xDsu7A/hvnHg8PmjcAq1f8A+3cwr1PmjZ0pVj6OOLxCRoX/MSqmwCJCIfQyraiBoKu2ZrwRKbxY7ZrJ4Hn3nHSRNmcNcIK3zOTFlJYIiEBBEaAQY+DrgNWop9CC+Y030OHhhNvRYQQtojmG3OzZZhvRPu7ee911eeNcbvpbvASCLOa8p/o3WKGgexC2DcahSOgM4tAj+2Fs54a+URMOqYQcvXp/OeEU8vhAiixPwGVDzOXxrStrIiAC00yAIo6DAXd3uz1Wd+5EFet5CDlso78VxrBEdepid9gRjiPX0qKhR6b5kenyeUKgGMQcUV+C/VPCuD2V8Ec4+SwMrxEbguFVY9thE+k0gcMKICS8cokfyRnPsFfVyhe3JxwzfhElKAIiUFAE6JWj563rqjstF4a7dIYg4XRdztAjjWZLl7keuTVrzObMuXl7fJcoiEAxEygWMZfJZ3wdif11JhPMu7QS3rnsvh9vttXLu/tXhkRABHJKgEKO7ePa2zH0yDFUmUDIsa0cxR2FHNvHLV/hCrmVaAk9Ez1YGXiehJzLQn+Lm4DEXHE//2m5e3njpgW7LioCeUeAYozBG3qEQu4AOjtcvOgOEMz+V7NQB0IBt2GD2TJ45hrhoVMbOZeb/oqAR0BiziOhpQiIgAiIQE4JsH0cOzqcQ8OVYxBy7x11x5Cjl45TOtMjx44O6zCrA9vKcSgSb+poeeRy+qh0sTwnIDGX5w9I2RMBERCBIBHwqkYp5OiRO30KY8i9587swIGBOfdqOXqssip1I7xx7OiwYAFGgMcQ8BJwQSoJupdMEih2MTcLMOG4t6UwzhYB5769CJvIECU4TEEEREAERGCiBCjkPDHX2+u2i3tnjzsESSc6PlDIlcEjx6FHOMfqPfegmhVvaQ5HoiACIpCeQLGJudVA8euwLTCKODjtR4UOxOD3oF0etedmRC1W4fQ3vHasC9YKUxABERABEUhDwGsfx45VvfDIsVr1zd1mZ1DFeu2aOyRJVbXZvLkYPwoDSN1xhzv0iFetmiZZRYuACIBAsYg5Cq/fhn0O5kw4gGW6wH5Sn4L9SZoD+C5qhTX79n8Z65/3bWtVBERABEQgiUAEdR7Xe1Cteths3z63anVwwJ0Apg4/rRcuhIjb5LaTo3dOQQREYGIEgi7mwsDw+7Cfh9GLNtEwY5wDma4/UCT+EQyvJwUREAEREAE/AXrlhofNOlDvcRxDtO/ahY4OmG+V1apsB9fQEDdOybVpU8jp8MAeqwxelay7pb8iIALpCCSLknTHFWI8PWhfhP0qbDJCbrx7xWvJnklx0I+kiFOUCIiACBQlAQoxGjs6cOBfdm44gHl3XnsVo7hjnWPIcYiRGTPjtnZdyLZtCzm9VuvqXIEnIVeUxUY3fZsEgizmfgVMfuI2uYx32l+kOODTKeIUJQIiIAJFR8ATYlyyx+qZM2Z797p2CfPxUNyVlqGtCoTcpo0h24JWzCswlhyHImEbOZ6nIAIiMHECQa1mRRNap41cOhJD2IFXi52GoWO8/QKsHjbRgN+WhkoCQwuPG2E+1lBR4KR5I1IrIiACIlBMBDwhR4/c9W7MfYg35eEj7swOjkcO7eYo2OagTdw6eOQ4GPB8vD1r0a2MnjoNP1JMpUX3mikCQRVzvwFAcNaPCnDs21/C/j3sgm/vj2F9MmKOpz4H+3Gu+MI9WKdAVBABERCBoiPgedQo5NhDlVNyHTrkzrHa2YmqVQg5DjPC4UYo4uiRY0cHjiFHIacgAiJwewSC+M+HbeU+mQIHnP22DfYFmF/IpTh0QlHPpzjqrhRxihIBERCBQBOgiKOAY+B6L3qsHjtutmcPZnV4z+zKFbeNXDWGHpkzx+xu/Oy9C29L9l6tqdGsDi45/RWB2ycQRM8cBRWrWZPDzyICzW8zFvB7c1RYMCpGESIgAiJQBARYPQodZz0QcuzosH8/PHOnUNV6HZHYR9G2AOJtM8aP4xhy9M55waua9ba1FAERmByBIIo5vCZGhX9GzN+Mip1aBJrxjgoco05BBERABIqOAIcZ6UbVKoce2bHD7b3KMeRYfcoeqgsXQcRtNrvv3jiqVaHuEOjNowhUO7miKy664QwTCKKYa0nB6IUUcVONuooE0ALkloGXJeamSlXni4AIFAQBr30clxxD7iraxO3FSJtvv411vB0Zxx6rDQ3oqbrCnWN11SqME1UeulElKyFXEI9amSwAAsUi5g5m4VmgPxYrD24JM27Z0oYIiIAIBJCAJ+R4awODmNT6ojujA9vHtWMixAi8dPTIsSp19Wp0dliP+Q8Xo5cZupn5vXD+9QBi0i2JQM4IBFHMoV/UqJCJDg/Jia5EBAWdP+C1piACIiACwSdAQcf2cOfOuZ0cDh/GhNbtbkcHDj3C4UZWrzFbA1uEtnKsalWP1eCXC93h9BAIopiDs39UgHPf0JIjowG/NUeFVNcedZAiREAERKDQCFC8eZ60KNq6XefQI62ukDt2zJ2qaxgjeFZWuj1WOfTI2nUQdfPczg8Ucv40Cu3+lV8RyGcCQRRzcPKPCugIb/8yKnZqERJzU+Ons0VABAqQQAQthbsxGPD7GHrkCAYDPnHSjGPIsTMDhx7huHHbtpqtgkeOw5AwzgueGPS2tRQBEcgMgSCOMwen/6jwBGKS27eNOmgSERj20j6V4vgzKeIUJQIiIAKBIEDB1tVldhRt49jZ4b2j7hhyjOfAv0uWuOPHbYGY4xhyFHKegPOWgQChmxCBPCMQRDH3Ehizl6k/3IuN3/BHTHH993H+xhRpvJIiTlEiIAIiUNAEWD1Ko5BjJ4fXd2NQYFStcpuBU3EtWuQKuQcfRMcHjClQXi4h59LRXxHIPoEgijm+Xl5Lge53EffhFPGTjXoaJ/xCipPwqrNXUsQrSgREQAQKjoAn4LiM4ucxOzu8/gZecq+YtZ426+tzxRp7qC5bZvbY42Z33ukKO94svXU8V0EERCD7BIIo5kjtSynQ8V6/BftvMHSYn3RApYH9d9hX05z5AuLb0+xTtAiIgAgUBAFPxDGzrBodGcH8hxfNvvscpud6x+zSJTfOG3pkI+ooHoI3btnSOKpV446I4z6aqlYL4pErkwEgEMQOEHwsX4H9IuxubvgChrC0n4f9KOzPYW/BDsCSOaCCwBbDKOAWwB6DfQ7G+HThd9LtULwIiIAIFAIBz5NGEcZ1b+gRDjty4F3fYMB4Y86b744ht3Yt2srhbVlbG3IEHM+TiCuEp608BolAsogJyr3hdeKItlexZGeF5FCHiF9JjvRt/ybWaRMN9Pi9PtGDdZwIiIAI5BsBv5BjtWo3qlVbW80Oo8fqUXR06OhwZ3VgR4e5GG6EAwFzQGCOJ8c2cxp6JN+eqPJTTARY9RjUQK/bD8HQciOrAa86x2uX1YsocREQARHINgGnWhVCrhPTcZ1432z/frfDQzsakHBWh2oIOfZS3YI5VjmOHNc5GDAHCWaQR87loL8ikGsCQRZzZPl12Odh/dzIQmhFmk/D8BtWQQREQAQKmwA7LdADdwxjyO1LCLkrEHJxxFeijmPJUsyxusVs0ya0P0EDFHnkCvt5K/fBIRB0Mccn9bcwvH7sbW5kMPwN0roDdjqDaSopERABEcgpAa96NQrPmyPkUKW6by8GBMYQJF3w0IXQaIU9VhdCvN11l9tjde5cd6YHzxPnLXOacV1MBETgBoGgtpm7cYOJFfzOtPtgH4P9AuyDsNsJqICwb8LYq5Xt8RREQAREoGAJeJ0V6JHjrA7vvGN28KDZ+fNmAwNoB4fqU1atLkC7uMcfj9vSpSGrZYtjBREQgbwiUCxijtDxu9MRYhRjK2GPwB6AscfrbFgjDH24DK8xWwTDLIN2DXYW9iYMw2TaS7A2mIIIiIAIFDQBT8jxJi5cQNd+tDI+eMid0WFo0G3/1oi34pq1Zlu3mq1YGXLmXfVuWt44j4SWIjD9BIpJzPlpo2mv0b7ki6SQQ2WCDSfi8LtUQQREQASCQ8Av4CjGBiHazpwxe/dd2AF3RodBvPk4ewPnWF2D+VXXo6PDsqXudF08x59GcMjoTkSgsAkUq5hL9dTQMsRQ0aAgAiIgAsEk4HnTWK3a02N27hwGAt7rTs3F9nIckoTzqc6dg2FHKOQw/IjT0aEGPCDkGLw03C39FQERyAcCEnP58BSUBxEQARHIEYEIBBvnVKVHju3jjmKO1U4IOYq0ykp3jtW1EHIcQ44DA9f4hFyOsqjLiIAITJKAxNwkgelwERABEShUAhRy9MCdPIXeqpjV4TiE3DXUR7DqlB65xYvhjVtntgpCzt9jVVWrhfrEle9iISAxVyxPWvcpAiJQlAQ8IcY5Vjs73dkcOD3XqZNoV8IuXhigqh49VDmTw53o6LAS3cNmzsLUORhXjud65xclPN20CBQIAYm5AnlQyqYIiIAITIYARRgDq0+9MeQOoJMDq1bZVq6vz6wMHR1oS5aa3XtP3JavCBl7sJbiyyAR5/LTXxEoBAISc4XwlJRHERABEZgkAYo4GgOHHtm7z+21yqm52GOVc6lWoI3cHZviztAjK1eFnF6smprLZaa/IlBIBIpNzHG4y40wtAqxebDahCVmFsTW7QcOZfJbsOu3n4TOFAEREIHMEPA8cq2t7mDAhzGLdMcVdzDgsjKzWTPdTg533RVyPHNVGBxYQQREoDAJFIuYQ3Ne+0XY52Fo5pu1sAcp/6+spa6ERUAERGAcAhRxrCLt7XU9cm+8gY4OGFWTPVZZ3coZHWZj6JFVqzDP4Wb0Xl3sjiGnatVxwGq3COQxgaCLOTTptS/CPgJLVDhk9WnMzWrqSlwEREAExiHAHqvXUT9w+rTbPo6zOvSwvgACrwrVqhw3joMBr0X9xKJFbkeHcZLUbhEQgTwnEGQxx0qDb8HuzOEzQOWFggiIgAjklgC9cTQKuWvXQnYSPVUPHYrbMQw9wsGB6ZGrRaOSxRBv6zAQML1yHHqEPVZ5HoO3dLf0VwREoJAIBFnM/QUeRC6FHJ87+ocpiIAIiEBuCbAzw4gzhlzczrSasdcqx5LrxhhyFGn1mKiQY8ht2uQOPdLScnPokdzmVFcTARHIBoGgirlfA6zPZAPYOGm+Pc5+7RYBERCBjBGgUAuHQzYyErb2yyG70h52BgI+eSruVK2Ww/NGW4Gx4zbfgeUKsxkzMBwJ6hC8oUsylhklJAIiMG0Egijm8BvVfnUcogex/x9gGDrTLsPoURuGTSWwN+uZqSSgc0VABERgYgRCjhgrKQlDmFVZe3sFqlVLIepCdulS3AbwNgqhj34lGptwRoetW82WLzerQ39+evE8Iaeq1YnR1lEikO8EgijmHgJ09NVKGXYj9t/CXk65V5EiIAIikEcEQlBbcU95+fLFqFhsCMKsGvOprscUXUtQnToDx5Zaf7/rrZs1Cx0dVpvdf7/b6YHTdSmIgAgEk0AQxRwqE1IGeuOegrFfl4IIOAT4ofQsFZJUH9JUxylOBLJFgGWQos4LsVgUQm4YHrlGdGrYaLNnfwyibiNEXKNT5VpWHscYcnFbvz5k27bFbdkyMw4EnEITeklqKQI5IaD3afYwB1HMpfLKoWmwMzyJhFz2ylLBp+y9aDxviPcR9eIL/gZ1AwVFwCuHNzMNdxzGFwmFStELtclaWpZCyD1lCxY+ZZUVszD2Uhnax8WtZbbZBvRY3YSZHZYsid+oVpWYu0lSa9knMLr8utf0/zDJfi6K5wpBFHMY13xUOICY86NiFVH0BPhi8RuBULx5Qq7oAQlAnhCIY3iRCIxTbs3BsCIfRg/VNZhHdSuEHLqmQsjVoj3cggVxW4c2chxHbg5+1noeOQm5PHmMRZgN/RjOzUMPopjDuOejAmYlVBABl4An1rjF9QgG5xocHMTE432OUdxFOTAXgn5FOhj0J6cE6IFzq0Vvlr8oymjMrl5lm7glEHFNqGKdg/ZyFHLo6FA5AoE3YitXRp1q1fp6luuQDQ05u1GO3aX+ikAuCXjv2srKSucdOzw87LxvJfAy/xSCKOZOp8CkwXxTQCnmKO9lQiHX2dlpBw8ehBejBMM2zHCwxGKxYsaje592Aq76isf5owIVqGU1Fo/NxswOc+xi22wrLaVhOgeLoufqVXwgWyH0OuzcuUFsx2945Kb9NpQBEQCBCoxOzffsoUOH7OLFi/iRkfiVIToZIxBEMcfhRpLDvYjg29H9yZu8V9tFQ8D7pcglvR4jIyP4AJ6z5557zvbs2eO8dAjDE3tFA0Y3mncEWDUai41AtNVaU9NGa5rxIOZVRRdVq0LZZfnFmEp9l/FxfB3zsL6KD+VJiL5eWBjl1/Ps5d1tKUNFSCCM8XAo4Lq6uuzy5cvwLqPLtUJGCQRRzL0CQudgC32kMHmNM4jw3/nitFqkBDxBx9vneg/mO2IV66lTpxyBV6RYdNt5RoBeuZKSBrSN22CLl7Tgl+hCizXOsHLUM4RCUZTbNrtw4RU7ceIr8NgdtOHhDkf8xeOumFPVap490CLPDt+1rPFQrUd2CkIQxRzrx/4S9ttJyP4fbG+HdSXFa1MEHBFHT53XRkmeORWK6SEQQu/TmJWWYFnabA0Nd9mc2U/a/PmP2oymVRByFTY80g/PxkU7c2a7nT79DXg6diGrw04zgXC4BGWYOVclxPQ8P101FQHvveq9Y/V+TUVpanFBFHMk8gewz8OWwLywBCtfhz0JG4EpFCkB74XC2+d6LWYgn4tZx9lejm07GPjr0XsBORH6IwI5IEAh5raTC1s0tgHVq4/bzOYH0GN1poUg1CJRtok7D4/c8/b++3+JwYL3oxq21ObNW2yzMEpwTU21U275saSpDOfgoekS4xJge2R2MmM1a3t7OzzJ152OEOOeqAMmTCCoYq4HBH4c9gLM+Z2aIPIBLL8M+xxMgg4Qii14Qo5Lfuwo3lZgwsqPfOQjdvfddzsfRO5Tb9ZiKxnTd78ohk6gkONUW9euxe3kqTCqT2daXy875NRB2IXRXs6strwXXruT2Pci2iCddc5ramqyJ5980h566CFbunSJI+4k5hw0+jPNBLxyyN6sFHH79u2zF1980Vleu3ZtmnMXrMsHVczxKb0E+03Y73HDF34Q682wT8Eo+hSKkIDnsWDD3DpMWLl48WKMz7XO8dBxH3u5cp+CCOSCAAUdx5C71o0pavBW6oagi8fK4SHG1A0oj/X1ZksxAPCMGSN25UqP7d3bjuMxASsCf5DMmzfXVq9eZatWoSq2vNz5oSLPXC6enK4xHgHWcrCMtrW1ocf1VacGpKxMA0yMx22y+4Mq5vgVZn3ZH8Io3H4Z5g9PYGMn7Dv+yCmu8836+zB105kiyGyfTrHmiTkuWQXAl001Jq+kMXjVrN5x2c6T0i8+AhRwKH4QXoYqKLOOzhCqTs3eey9uly4ZqlPd/Y2NZitWhmz9ujjKJ5sEc7iSCMpowqWHLX4c6f1g+fWLOf0gKb5ylU937Hnm+I5l+WTZ5Lreq5l/SkEUc7ynk7BF4+DahP20TIbjSEw9ZjNJNMtpeS8bLr3gvWi8pRevpQhkkgCFHPspcJSGNoi348cMw4ugK/65EMQdy2PImvFTdPlys82YcXrpMlf0UfB55Zb58ZddbntB5dcjoeV0EWAZ9Mon1z2brvwE+bpBFHNL8MDGE3LZeqbzs5Ww0s0+Ae+l4y15Rf/LKPs50BWCTMARb7hB73cDHWv9fZhn8ILZsaNmhw/FMWYcxo6DuCsrc4Ucp+XauNFs2VKz+gZDuyN6jdMLOH/ZJUuV3yCXqPy+t+Sy55VNb5nfuS+83AVRzHFY9OkKblfI6bq6rjtpAt4vRW/pJcBtL/jXvTgtReB2CbBoUZANQLS1nkG16hGzo++ZXYCQG4lwai7DkCSuN27jpjjacxp6qbpXc4Vc+it7ZdVb8kj/evoztUcEMk+AZU/lL/NcU6UYRDE3nOpGcxSH39kKIiACIjCaAD1yNIo5Vq22njZ75x0IOVSvdna48RwQeOZMs7Vr4/bgQyF0yDG0McJJqHL1PHq+3xmjL6IYERCB/7+9M/uN68jS/EnuO0WRFClRpESJ1L5atkuWl/Ze4yq7GtUvjUYBg+6HeR/MfzCYtwb6dQYoDDAPAxQG6O5pVHWVq7x7bLmqvJRWW5IlkSIpkqJIcRF3ccv5vhsZUmaakigumXkzv5BubneL+4vgje+eiHMiJwlko5i7iZKcxFKRhhK9kIZz6pQiIAIZTMCLML7TQZreqtcx7u30aY6Pw/dxl3mMDbeGRljkjpk9fyoCL2sn8JaWaN3I4AtU1kRABNJOIBvFHL1KD2HBM21KE897PqVn1MlEQAQymoAXcszkIpxQGXrkAh75EG7L+jFW7i6+s+sUcautGSN9j0PIHdhvRg9WRcbJ6KJV5kQgowhko5gjYIxECZaMgq3MiIAI5A4BCjla1OjoMIfQI8PD8FbF+LjvvjPrwR2KXa3cZnONWWur2cGDZnv2GgJXS8jlTi3RlYrA+hDIVjG3PnR0FBEQARFYBQFvkfOODgO3za4hcNHZcwhDcsvFkMuD0KvF+DiGHkG8amtvN0zfxTFyD8bW+eOsIgvaRQREIIcISMzlUGHrUkVABDaegBdgFHJBDDl4qdLJgTHkentdrDiOj9uMGHJ7YYnbj25Vhh6JF3I+l7Ts+eP53/QuAiIgAskEJOaSiei7CIiACKySgBdeFHJTcMOieLuEsCNXEEeup8eNm+NMRvRYPYBu1UMY3duCsXLVmK6Lye/vHR78d7dWryIgAiKwPAGJueW56FcREAEReGICXnxNQshRvJ0/z+m5XLBfrivAHXfLFjc+7rmTznuVceX8fl7EPfGJtYMIiEBOE5CYy+ni18WLgAisBwEvxuiByq7V69fNvv7avTP0CC117FqtgZfqcyej9iMIuaqqSCDu/L4ScutREjqGCOQmAYm53Cx3XbUIiMA6EIgXYvw8hbDhDAR8HuFHursRQy4WeqQMMzg0bTN74Xl4rO6JBDM80NHBJwk5T0LvIiACqyEQNjGHW6JhxIkx33D05zTVSiIgAiKQXgILmIbrzh0XdoRC7ia6WNnVSoFHxwaGHjmEOVb3w2uVMeQisOAxScQ5DnoVARFYG4GwiLlmXOa/YnkGyz0snAMVjv72n7B8hiU5/Uf8gOHFKU0MGvyPWNDJoiQCIpALBCjW7uGONDho9j08Vr/5i9lthCGhhS4fgm3zZniq7nLODvvguco5V33okVzgo2sUARFIDYGwiLn/AhwUckwUckx7sPwTFv87f2OqxPK/sMSefflTyhIF5q9SdjadSAREIOUEfNdqEEMOj3AUbww7wmDA9F6dm0P3AfoPahF6hLHjGEOOljla6GiJ4/6yyKW82HRCEchqAmERc3imXTYhQtMPUiN+SYeQY0aafpAb/SACIpB1BCjk2I3a3++8VX0MOU7ZRSHX0MCxcU7I7dzpLHIScllXDXRBIpAxBMIi5mhtWy5xDB2HEeMWej95y939H1L4IZ3nTuFl6lQikJsEaFWjkJuYwLi4m4ghd8k5O9xBN+sixs0VIcxIIx4naY07fNhs+3azsjJZ5HKztuiqRSB1BMIi5nCrXDaN4dd4IceNMFolbSmd507bRevEIpDtBHzXKN8ZeqSjw4k4xpAbG8FNCAKP8eLYlfoMBn4wGDDjyTEciSxy2V47dH0ikH4CYRFznwHV3yyD64tlfsPzso1iwW015Ql+bEoiIALZQoDijQvjxzFRyJ0964TcjU6zu3icxOogXlwTBln81V9Fra09Ejg+MEAwhZzGxwXo9CICIrCBBMIi5v4HGDCvP8cC/zAbx3IRy3/FkpzQ2WFHsaR6/BqGQtv55MzouwiIQDgJUMQxeSHH0CMcG3fuHGLI9bgYcgaxVolBIPRYPXqEMztErALfKeSYJOQcB72KgAhsLIGwiDn4hwWeq/+0Qhy0znFREgEREIFVEfBCbH7exZC7iMdHWuVu3XKhRyjYGDOudafZseNme+GmRWHnxZ/ff1Un104iIAIi8AQEwiLmnuCStKkIiIAIrJ0AHR1mZ82GhszOnHHODhRyjCvHWHEMPbIbFrkjsMjt2u2EnT+rhJwnoXcREIFUEJCYSwVlnUMERCBUBCjkOD6ur891rXJWh0HEk+NMDz70SFsbvFYRHIlCrqpKjg6hKmBlVgSyjIDEXJYVqC5HBERgdQT8GDkKOcaQY+gRBgLmGLkRjJebh5ArRZgRxpDbvw8LhNyOnWblCJDErlXuL4vc6thrLxEQgbURkJhbGz/tLQIikAUEvBBj0F/GkGPokQuwxn1/xXWz0tHBC7mnMD5uH8Tc1m0uhpy/fAk5T0LvIiACqSYgMZdq4jqfCIhARhHwQo6ZunvXzbFKa9z164ghhyBHtLotwerWBPH2zLNOyNXVubhyEnAZVZTKjAjkLAGJuZwtel24CIhAvJAbRGhyzuhAi9yNGy70CEVcCeZ1oaMDPVYPHYSjQ40bNychp/ojAiKQKQQyXcwxXtzfYUEnR8Ynxpn7RywYNq0kAiKQ6QS8kOM7Y8idQ9iRCwg/0tPjQo/kwWN1ExwbOCXXqVNm7e1ujlVa6pREQAREIJMIZLqY+2+A9U4mAXtMXq5i/a8es41Wi4AIpJkABRwTvVMZeuTLL2GVg7MDQ4/MIvQIPVarq2GRg6fqiRPu3Xuscj9Z5UhBSQREIFMIZLqYS/UsDmstl7Dld63Xq/1FIFQEvIjj+9wcrHDdrluVMzsMD0PI4TcGA66vN9sDS9wBdKvSIlcGL1Z5rIaqqJVZEcgpApku5jBaJVQpbPkNFVxlVgTWQoACjhY1hh6ZmsKUXF2Yf++8Cz8yBscHiruSErNGhB5p3wMhdwChR3aYVVS4s/r915IH7SsCIiACG0Eg08UcbrmhSmHLb6jgKrMisFoCXoixW3Ucwo3j4s7CY5WhR+6gmzWCcXClpWbbtjlvVcaQa4Kd3Qs5dauulrz2EwERSAWBTBdz8CszBAMITWJ+lURABDKIAIUcEy1yoyOxGHJwdKCQYygSg5ArwBi5lhazg+hWZQy5xkYn7iTiAnR6EQERyHACmS7m/jP4/U8sYfFmRaeNkgiIQCoIeGvbo87lt+E7Q49cueym5+q4juDAmOWBszpwBgc6Ohw/brZ3rxsvV1T0qKNqnQiIgAhkFoFMF3PstoSfmZIIiIAIJBJ4nNXMCznO6kCP1Qt41LoIi1w3nB44ywOtcfRYbW5+EHpk82bn6JB4Jn0TAREQgcwmkOliLrPpKXciIAIpJcCuUjoqMNHrlB6mj4r7RkHHcCNnz0DIwWO1vx8eq7NmxXB0oLMDu1Sffhqeq3B4oIWOAtGLQHcWvYqACIhA5hOQmMv8MlIORSCnCXhxRQvbJLpG2VVKQUdnhYbY2LblBB2FX2en81hl6JERjJe7hxhyFIE1sMDth5A7dsysrc2M3ao8xuOsfTldELp4ERCBjCUgMZexRaOMiYAIUMgxcVotWtSGMO6Nwuw23rduNXsKAX3ZTVpdaZYfu5txH4q+mzfNzsAid/WqiyFHIVeM4EENCD1CS9yRI25fxpDzgtGdTa8iIAIiEC4CEnPhKi/lVgRyjgCtZfOwxNHztLvHLf19ztJG16iZGbPWnWYc78Ztx8fNurowPRdCj1yHowODAdNKR9FGax6FHGPI0XvVC7mcg6oLFgERyCoCEnNZVZy6GBHITgK0ytEbld2mo6PoLoW4o2ijlY7raHVr3em6Snt73e+cnosWOlr1KNoo3hg/jh6rnG+VY+aY1LXqOOhVBEQgvAQk5sJbdsq5COQEAQb6pVWuF9Y4WtzuQbxxjBtFGOPGXbv2oAuW4+H6sF1HB/YZc0KuCh6rO3eaHT7srHKMIafQIzlRdXSRIpAzBCTmcqaodaEiEB4CfgwbBRuta/RI7UUX6507TqAVIqwIU34+wozAQtcBQXcLIo7fJxHQiNN1cQxdGaxvra3OY5UWOXbFcht/fHcUvYqACIhAuAlIzIW7/JR7EchqAvRgHUSMuBtdzjI3P+/EGC+agozCjInerTPTZosYG0cRR7FHKx27VZ95xo2RY+gRJREQARHIRgISc9lYqromEQgxAW8143tgletH12mvGytH8RYfhoTbMHFu1cJiCDmIOSaOh6OX68mTbowcvVjpBOHHx/l3t7VeRUAERCDcBHALVBIBERCBzCHgBRqdGvog5Hpuuu5VfveWOL9Ncq69SOM4uzGMmWO3LGd74PZc59cn76fvIiACIhBmArLMhbn00pj3aFxrys+RuFYy/nMas6hTh5CAF13MOr1Ve7qdQwM/x1W5Za/Mr2dV9GKO3q60yHGmh/p6s9LSRMvesgfSjyIgAiIQMgIScyErsPRkN2qQa8Gp3Ss+osXk53ghJxGXntLJtrNSjPlQJD1wehiGdY1j4ti96gXbo66Z+3M77tOBOHMcS0er3j6Mn2OcuYrYtF2POobWiYAIiECYCEjMham00pJXCDmOS4pQznkphx9g7lhEAK8lruRCcecXtLp5bFF9wvpo7Hvcr36t3kXgPgFfbTj1Fq1y/fBipWcqq1j8WLn7OyR98Pv7n7kv52Mtwpi5qiqzSswUUYrxdHSOUBIBERCBbCGgW1q2lORGXAdFGP4FiZoNH6JLi7YwN2uzMHdMTc/Y3PyCLUDURS0P45kKrQgjz0tKSq0MLWZxUX4g6oL9cCyKQX5ObnDdCfQqAk60UbjR4aGj0zk90IOVifWG65ZLvk5xPRd+5/i6TTUxEVcBBwnc7eIfJvyx/L7LHVe/iYAIiEAYCEjMhaGU0pDHYExc0NpFbXFhzubQ7zU9PYWYXqM2NjJsdzBJ5u3BYRufnrV780uwvOVbQXGFVVXX2ObaOqurq7W6mipYQioQfb8M1pAiy0c3GS12vrFNw2XplBlOgKFI6LDQBasc51ZlgGAvtrz4Wu4SYlU1UGsUcQwKXAEr3M6dZu1tZq07o6iXkWAmCO9E4Y+73PH0mwiIgAiEiYDEXJhKK1V5jTKGA5QXWrtIdMYmB6/blbNf2Z8+P21ffHnOvusasMHxGVvEdku0ysWsJRHsE0FfWEFRqZVv2mL1Ow/YiVMv2csvvWCnju6xhuoiK6F1BDtwH42xS1WBZvZ5XF1weZzG+Lbvvotad3fETcUVF04k+Sq8GFuA5W4R3qvshi2HgNu6FQKu3ezQQbNGfC7DGLn8PA4DWFlXbfJ59F0EREAEMp2AxFyml1Cq8hdTZEFnKEWZzdnMUKd9+cGv7bM/nrFvvu2w6z0DNjQ8YuNT6F6FBeXh6S7CQozBejdgtzvP29nT79lvjr5ob/34NXvuSLu11JVZMawn3iNWou7hJHNlDasfrXIMJ3L5csRu33Yeqf76vXDz37ktBZyfd7Wuyc232txi1gQnB3quVmMaL8abo8gLnjdiDx3+GHoXAREQgWwhIDGXLSW55uuA2QJNXsRg5liatluXv7GvPvqDvfvBp/blpS67MXDXJqbnXaOILSOFZVaN7tTNVRVWWoRqtHTP7k2PYz7Mu3Z3fBpj6WZsZmzG+u4O2RDmWers6rOR4XFMlv6qvXrqkO1t3mxlhbT80UqH8ya31mu+Hh0gDARizxBOyI06p4fubtfVyvx7pwdux4Uiju+c4aEKU3NRtG2FeKOAo0Wurs6NkWOQ4Pj9WXFVxRwTvYqACGQfAYm57CvT1V0RtFwUHqoLs+M2deu8/fH9f7N/+ed37euOIesfnbQZaLxIcTnGxNVbA2Yq37692ZpbttvWuhqrYN/p4qzNjN+xoYF+DF7vw6TofdY/MGSjk/M2N33XRnu+sz9/DGvL0oIVlhVacekRa6svD7pdozSvqKVdXbmFeC8v5HgJswgd0j9gdg2hREbhycquU07LxW0YJ46Jwq4MceIq4MywuRZhRiDeWnagK7XRzbmKoZmByOOYuOTqlPzdHVGvIiACIpAdBCTmsqMc13QV3jK2tDBrE0O9dvHTd+2D9z+yj8/dsNF7sNUtRaywotbqd+y1g8eesR+dOGpH97VaU121VWAm86ICKEF4uc7fm7bp8WEb7Ou0a9+esT+d/sK++q7LuodnzOanbeLmBbt0ptw2w5RSD5NKXXmzNVbRhIIWWynnCFBgUawxwC+DAvfC4eHGDVSVuUQUFGe0tDG0SD0sb03bsaBbtbEB3qqb3Jg4Wuok2BK56ZsIiEDuEJCYy52yXuZK0ZIGOoqt6rwtTKJL9MZF++T9T+yLv1y1QWgwbhAp22Jbdh+1p1982X785qv2wlMHbE9TlcV6spKOC+/XyQE7ur/VmuvKLd9+bzNfXbXRBYjChXs23NthF765aLt2tNuhltpAzKkRTkKYJV/jLW/JZcx1XszNoJ4NYYzczR4LxspFUR25Lg8ijpY4jn0LulNhgaOIY7dqLSxznM3BJx7Pny/5XH4bvYuACIhAthKQmMvWkl3JdVHI0XOVrea9SZu+c8N6v/+LfXGxxzqGYn1b2KRi2z7bf+ot+8nP3rSfntpr28oLMNYNnqwYYYc2Ny7xgBHLL99i2/c9iy7ZKpsevW0jvZ32p74liLmoLYxP2q3rHdZ5udP6n9tvbTtqrDzW+rq94w6nj6El4IWVvwAv3vx3/06rHAMEd3W5abtmIezK0Y1Kx4UqiDiOg9vZYrZjh6F731nnfGiR5HNIxHmqmfnuy0vllJnlo1yFm4DEXLjLbw25Z6BfOh9EEO4XUx5NwOmhs98unb1uHXfgyRocmVKt2PYcPGjPv/SsHT+022pL8gMBt8T9EO4hOXH821I0z6L5VVZU227H0C3bdeWKnR2+apPoho1GJ21htMfG7nRb/9iEjaAxL0c3bXCj/+Hhkg+v7xlMwDfWy2WRDbhfz3ffoHOardsYK3f5e7wPwtqGcW8NDS42HMOLcEwcLXOMG+f34Rg6fvbflzuffss8Aiwvlr1fmMNMLEdfT5cjqDq3HBX9lgkEJOYyoRTSlocHLWIUwmypqMTy4SLYvLXFFiJ9tgiL3VQeulTbjtjh1iZrqcH4OCo/pOW9T3m84H9wly4sKLKmhjpr377FKvM77C72m4O37NLSBITduA0j4PA4gsIaLDEw9eEu73fGd6VQEPANX3KjTK9Tzq/Kd66jpY3j2ph8g8jgwN1dGCeHBUMubd8+sz0QcK27XDcqHR24X7IlLvlcPKZSZhOgAOdCJxYuvg4k59oLPb/evydvt57f4+swj/u4c3L7x22znvnTsURgJQQk5lZCKSu3cUFU/aUVllVZ/e6D9ux/KLTK3SdtZGzIZhejNmk77PBTR+1wc60h5u/9m9jDbmZot5F4t8MEX9iorLTIKsuLrRCfYzoQq+cxr+u8zS/CexY3+NgewX7JHbdurV4zkUByo4aoNEGXKb1RxyHUOME9u1HZeGOGN+eFCocFhg+pxjurSQEEXv0W543KcXDNcG6gp2ry3KnJDW4m8lCelifAsuMcuUNDbno2CnyW9WaElqFg9yKfe/O+wsWXt3/nbxuRePzEY0dtZiYSeFczjiHXMX98qKB1mClxe/ebXkUg3QQk5tJdAmk+v78xFRSXWW3TLquub7L247CfYR6lObTEc9ESK8cgpooKZ5Vb2T2Vc7C6rtMFTPU1hwjDixB3cIqN6bwiK4oUWyla7OJYDZSIS3NFWOXp2RjSAnfnjtn164gTB49UzPRmk2i86ZUaWOYg5oIGER4zFHI7WjAOrhWT3sM7ld6o9FItRkNJwRdviYvPkq+n8b/lwmdetxc0YbteL5T4zpk9enrMMOIiqCt0ZNkWc2RhNzpFHbvYWQ9YV2iNTVWZ84FjBnV4Ah7VDFrNhfWX4XF4yyqGkGP+WFe5VGKWEXpX8yFFSQQyhYDEXKaURJrzwam4CtAtyqUEN1WmKJwcgoYEd1V2q/LG9riE+3YswasVFrjh0bt2a2gMVr5Fg/8DUrHlFddaZQXmb60otSAyCX9+sCO/KYWAALvNJiddI/3tt2adnc4yx4aR3ab0rfHFyoaZM8QN3EYIkl7ElLtltrvNOTYw3Igax+ULfGVCjn+ZK/nrXP4cG/4rKgGtXLTOcVzkDdSTYYh/Or1QwNVAINFSx6UG1rpNEHcUTBT2tNBS2CWLu2QuqxF+PAYfREZH3UNIN/IzMOCmkZvDgwjrNxPPzbxQdNIhZ9cuJ0T5EML8SdQ5TnpNLwFURSURSCIQu1MG8o2N8IrvlK7p5tC3pcU5TJI+bJ03u+xS502bnl+A9ytSYaWVNe60+u0ttm1zhdXgRumafJ6In5XCQMALOTbM58+bXbjohB0tcUyBeIsrT24fxTpa66bRqFME0lpDwUdrDBtyNprcX42jY8hXL1ri/wT5W/zfZPCgFWwQBzxu3wdHS+0nl0/31+3PTJFPpxd2yU+h/Jntfli5yiHqKiDg6MG8ucZ1wdIKBof4oEue60ohqOJFXTITniP+N3/O5d6ZN9bBW3iouH4NFkM44AwMuJlHWAe9kPP78rh84AgeRPrN9u8za2tDvcWDCIWe6qwnpfd0EZCYSxf5jD0vfVxXl4KGB3e9KMbDzc2O2mjvJTsDk81X13ptFo04U8mmWoQt2WdtB/fYtrpKC0KF+bu+20SvGU6AxUWLxi00fhe+Nfv2O3SdYTwUu6OSx7otdyncn+PqrkPIUX4U4i7EmHG0fLDRVHVYjhq50Pucf52Jf6FkxoW/u/WO4fJHSe2vQXZ5SuSPzu8UYxwn6S1uFE2MMzgFYTUIqx1n/aA4qih39YHj6rbAu5nd8xR37O4sxzpuQ3GVXN/8+RyP5a+V27D+9kOUfYuHkAsXXFgcDOENuni5L/MZn0gcI0/sNgQo88kg13Pohj1wAPnb4vLC4z7qvPHH02cRWG8CEnPrTTT0x2OX6mougg0JbtjYdWlm0sZ7Ou3K55/Y6S+v2Df9dIbgMUusYesOO3F8vx0/uMMaqgIph/1We87V5FP7rJaAb6zm0YhxXBGD/HZ2oMts2DWu7EZl4nYPS6xbXNig0zJzs9dZXhgImNNx0cLhz/OwY+TS72TheHAMKsadQnD47xwaAdkBnggFFNuO6/025LS6v+X1Iezy6fJDoYT/Lj9x9YP5o3Dy4on7UGjRensbXfIU+hxLydiDFPt0lmEL6rY0AAAacElEQVRX51YIPFpzabGjY4I/Bo/n61Dy9fv8cIwcBdn3V80uXUIdvOlEHOskt1kuBcdla4n1tC53d7lrYZ2lsKToZB78OZY7hn4TgY0kIDG3kXRz5NjB2Dpca4R30QXM43r7ql358iP7P7/6nX1z4UZAgdOvFm89ZG0nXrTnTh61Y7vhHVuG6oe7XxR3StyDlUJCgGKOljVaNkYh6hbQLcUGLV5EPOxSfGPJho+NKsOT9Pdh/BSqCa0sbLA58DxIqhT4+6AzEf+28ILPU1MF6KasgAWrEX86vfhxFtakRrBEgO7pYnQd5sHh6EFZUISkK7ELnfHIkXGIs4jdgwUOoy3cE18sU74+xOczEE4xYURvdzojUPgPw/rb0+3qGq1zm9Ady3l5GZewrj425g7WOwqs5ZI/B/nQUYcOO7dxTN58/IPIcvsFv6EQOHyExyiCRXAGXcW9qP88RuDAg/pfBWG53PU89JhaIQLrSEBibh1h5uKhomzBcScMLG+L4zZ47Yx98+l79u5vf2+fXOi0gRk2RWiJSrbb0Rd/bK+9+bo9c3C3NVQWGytf0FDhBqmU+QTiG0N2M3HgOK0ULHs2Yr4hW+mVBNofjTtDVpw758Qhu9Eo8pQSCXgxNzFZaX39e9Ht+Ld28OBzYLUAIVNvkxPH7OKFOgjj/MBCtETX8eCPK/E4Kf2G83uRRDHG4NAcp0ZrG+tSfH2J/8w8sm74FNQt3Gb40HAPQp/HGMbDBLv5aVWjmGIXLMevcbwdHwj4G99916y3/PGY3H8QVj9alNl1yoeI5PP7cye8s47jBwpU3rI4WwmPQ09uikqKOf83krCfvohACghIzKUAcnaegrc1JNx1ObXX/MSg9V/7xr748D17//2P7bOvL1kvbuCLEHL51Tut9dl37O2f/theP3nAWrdUGXo0ghsj7368MSqFhwDF1iwsE2wIWYhezD3JFbDx9A36BBrXKXTX3uiKHYsHilWvJzlmNm/rRcJStBROIq1WX7cNwmUBmDCEIa8A1qsijF0sxGcoDaZM4ofMs7zpWMClgGIoScy5TD94jRdX3DaCfXhpvsHi5dHydxeOFBRl3IYWOS4UcLTWcQo4ep5SrNGSx0TnC1qDWefm8JnniReObqtHvwb7ME/Ylx66FIc8LpO/Lm7Dz0oikCoC/m8jVefTebKBAG5UTFHezZYWbGqo225c+JO9//vf2Senv7LzcHgYwA1uIb/cCqtb7MAzL9vf/sPf2WtPt1t7Qzmm78KNzh1CryEm4BurWHVY9ZX4cV7svvWNIN+VfkiA4+MikQJY3yIQKVAzQYpAJOXDShdnzvrhrun9heIHOWCd8fVmpRlari7432hxo/WPCz8HzhV4UuRnViE+eHDx9Yqf6XDBrlaO4/PHWWleuJ0/Fq+H3cY8Fusu6zGFIa9vNcd9kjxoWxFIJiAxl0xE3x9OAHco3iBdO4s4cphrdaznop09/al98sGndvrMRbvaO2gj6FpdKq6zTfVt9vSrb9pbb79pb57cb8215VaB+cDyeYQnvaM/PFdak2ICtHRwUDpjhLHx8o3bahowVgMOYPcBY/3xUnxJoTkdu1Wn4R0wPDIMUQJVAvNUEWK7VFdvRuzGSnh4FuNPy1nCeFGZ8mfGLlI6NrBrksKH+eLyqDrj885t/OILiusYXJgWN4YzYaw6WuToiMB3drPSaYJdnxzPeT9hv/gnSX+O++uf8EP8/vGfn/Aw2lwE1kxAYm7NCHPhAF6+8Voh6BBDbnrstvVfvWCn/98H9uknX9g3Z65a/9ikTUaLYI3battbD9vTz71ib//sNXsJQm5rab4V5ruxdZwdgvdUpXARYIPKBovii4Fd2XAGUxzBCsvEdY9qnN1WD165LRtkhp1gd1gdvBMpFOksk9x4P9gr9z6Rq2c7Pj6D4MzdGHj/OWKe3YQwmodXZ51t33YSYTL2I0xGPaxS+YGVKBNI+S5Mdm329TkP6DvomixEHYoX7rw+n3zZs0uWieu4LfehMGNMOoo0ijY6QbAecvFj5djVynrpubmjuNciCkCs53FwO3qi+uqPE5QFvyBfPF4JHCL47q/hSf4G/DH1LgJrJSAxt1aCWb9/TMgFDSym5ZqbsrGhLrt24Uv7HN2q//fjs3a5c8Bm5jB+p7DMyut22s4Dz9hzL71qP3vrZTuxd5ttqUQ1wx3OBzqNu29nPb1svMBAzKEh5aBvRuznPKzsvmLX1qMaNL+OTNhQs4GmBaW11ezpp11UfR5jJV6x2cj14dfEcXFOeAwMTMEy14E5cH9rHR3nMVZrFhavHbBCldi+fVusvb0GQibvPkP/N/fwY2/cGooan286uXCsHMe3LeIztE9QVwJhhO1Y5vGJv1PYM+5cGQUcrWyxBwj4exg0a/AQwJkiGKOQ2/JcrD9898kLK1/3+PDAfaqxUPTRkYfn5n5+W7/vo965D3q7gynpKpGvB7PmPPgbeNT+WicC600A1VFJBB5OwAUhxZ0V4fsXZsZs6Ma39pcv3rP3PvzY/nD6ivUMjhvDB0SKyqy65YgdP/WKvfraK/b688dt33aEHymGFQ5dQdGYW5uE3MNZZ/qa+AaxBhaRlhbngcoGkY01G9Gg8caFPKyceQw2mpzeqQKCcFuTm9aL83RS2CklEwCsuDQ5uQixNg2L3BCE3GAw7/HsbCnEyCS6quchVKKBtTNul4z4OANnKAb5pTjjKAsvnPjOxYs51g8+LDB+XNBtinrGsCMUb/RW5YwQFGE8VnA8iDCfeBxfR/1vyd/5O7tmG/AgwmC/43CgoBOFfxDx+fL7x7/HH4ufOTQgCIuCfHF2CiURSCcBibl00s/kc+Ouhnsj7o4YcI1P85MDcHL4s53+4Hf2h49P2xfnO+3WOFQcUl5pje048rw9/ypCj7zygj13rN1215c7zzMIuSUcIe5hOdhHL+EmwIaUlrmjR51V7swZNz0XG2Uv6pItJFxHEcd6xRAkO3aaHToIMbc7igbWyb/lGuRwk1pb7uPFBT+TIYNsgzKEC2/f7Itk0GAsCEfi1j84Z7wAefBraj75sgzKHdn05U+HAV4Bp/bC5QTisxIijUKN3aUMBsyu98149/O0Utyxe3S560lmtNw2vGKfH9ZdPohQxLH7N5jNAd6odJ7wYtNvz3cmf0xalOnJzbxs38666wIY0zoY3C/d5noVgZQTkJhLOfJwnNDdmDi6bdHujfXY1TOf2Ue/+7X9++8/xfRcYzaJRpm35NLqBtv77Gv2yk//xt554ySCATdaTTGkG61xwS07FoMuHJetXD6GQHzDSUHW3uasGhRuDKDKYMKc5ojbJQgLtN5swNmQsuHmfgch5NrbEdUfDXfMcBucPf4cj8lOTqz2IoQX69iQJJfklPh7ujn6fPt8BO/IIgVT4LiAekDrFi1w7DrlwwEXCjlaaRMcF2KX6o8Vf+VeaMX/9qjPtMLRKrd3rwspwrAiDFztvV6Jlo769xHjM8/Ln5hYh1tbzY7hQWb3Ljduz3fTPmle3BH1KgJrJyAxt3aG2XcECDE3RRDmWB25YV9/+Gt779137cM/nrfvbk5AyMEjtaDUqmqb7Ed//ff2zk/esNdP7LKmugorQY2KcgQ77mrpHK+TfYWSGVeU3FhxPlYKMjaOly+7mRw4DRPH0bGRpCWD+7DrrAzWC27XigawDRYNNuBszIMNYpeXfPzMuOrMyAXZ+OWBtPB5o9TwcsP99mBbv0163pkPip0ydG9ynlV+3o7u9WZYtnw3JcfEUSRxHR8MuE8goOIuaa3Xw/2ZeFyeh+c+dsyNoTt7FjM63HSWukWsp5jj5kE+gp2cBZHj9lh/KeT2oN7zwYTHYvLHd9/0KgKpJSAxl1reGXy22F0Tb87bdNFmR7rt69/+b/v3P3xsn3z9PcKOTNjEvTwrKqmHk8Nxe+Fnf23vvPaCPbW32Rqqi63IRwPFVUrIZXBRr2PW2PByUDnH0B054rpO2X01iXF0jPrPMBTchmOK7kfkR5cZrXre43Ads5N1h1rOEvXDi4z97f5wRVp/8eKG7xRru3a7cW/UnLS8seuU9YL1gILIbx+f6fjf4j/Hb/Okn3kccqV45MMFu0j5YMHZJDhFHesvx/jRUsdtOX0XHzpq0QXMsZ3NzW4/1mHWbSURyAQCEnOZUAoZkIcHzQGfR5dsvP+SXfrju/bPv3nfPj97za73TdjUfJFV1LbY3mPP20tvvI4ZHV60wzvqbHMZIs/zrodFIi4DCjPFWWDR05swaKDRwHGwOq1yFHLeMkfBx24zNtze8sJscl+l7CbAMmbZBx6oGAdH4ea9T3nl8YIoXrxuZN3gsblQ0DEv9HBl9y67TzkXLOPh+TmCKeZoVQ7G9cEyx21Zn+Pznd0lqKsLAwGJuTCU0obn0dni6Lm6tDBj8+MD9u0XH9hv/uVf7aOvrtmNgTGbXSq26oadtv/Ey/b6W2/ZGy8/ayd211oJwiDEP5w679eVZhh3U6SNvGmvNCfabu0EvEhjY81Gkg0zF1++fv3az6QjhI0ABRPrBZOvD/HCza15sM5/3+h35sWLS1rnaGGOd9jg+bneL6zDqscbXSo6/moISMythlpW7UOv1ZiYW5qzexBy/ec/so/fe8/+7cML1jM+b7MYI1fd2GwHfvSSvfHTd+ytl07Y0V31Vpq3iACv2Dt2d3bS7Eng0B745Hs9yRm0bXoIsEr4Rps54OdkcZeenOms6SIQXx+Yh+Tv6c6XF2zpyofOKwJrISAxtxZ6od+XYormE7a8C5iea9SG+y7b5+/+2j797Eu7OoK+MqSS2t3W9tQr9tpbP7G3X3vWDrfAIoeas7joulXX0rWaKTf04EL1smYCXrQlH8hbYVTeyWRy63um1oPH5cuvZ2mpDudWnQ3L1UrMhaWkNiKfMS2HAW8WnZ+2ycEu6zj/Z/vNh1/b2WsYBRykPKtrPWQHn33Rnj120NpqUWXuTdhdBC9lf8MT29W8dozkY6xKAcaeFFphQXxH7UZcqI6ZSgJq7FJJO1znytS6kZyvePFGwsnrw0Vduc0FAhJzuVDKy16jCwrMAKSUUtNjo9Z7+Vs7+/lpO9M7aSPBPpRqZbapvMDKI3ftzs0r9tUIt0YQYYQfCSQY7nIrHSfHG+JSELYEIq602mpqG61p2xZrQoDhoA+O59RdkxSUREAE0khAt6E0wtepV0VAYm5V2LJgJ1rlkBA4HtLsnk3N3babQx12ueeaTWG+RyYY7KCxpu3G2U/tzo0z9gFcugqxPWeESH5yDXZYwUsUYd/zCkutov6AHXr6x/bOWy9Z0yut2DN2TNxFKSGVREAEREAEREAEVkZAYm5lnLJwK6o5jnmj88O8Lc5PIbbSCIK9DiGkBLpQkejcQJE1NT4cLMGP6/CSl19sVWNlVtU4ZHfHnXDkYSniYhpzHc6iQ4iACIiACIhAbhCQmMuNcl7mKimdvA0M4UXyC62krMqqNzdZfcOUFSBoJsOOOAvc6i1xySdewuSckfxSq6zbbDWbyhGwM1YF1a+RjErfRUAEREAERGBFBCTmVoQpezdynZr5EHK11thyyI6dnLTFummbnse8q5hjlePhVtulmkyNem1xEVNrRwqtbPNO271/l21vRATOWJJVzpPQuwiIgAiIgAisnIDE3MpZZd2WFFdOQBVaacVW27HvlJVtarP9Y/NwVIjAy5Sj45jWR9AxhEkU875GMVCvoKTSqmu2WMMWhFQPErt8fX5iP+lNBERABERABETgsQQk5h6LKEs3oHJCcq95Vli8yeoaubTb/jResstPGjOgU4uACIiACIhAyAhIzIWswDYmu87+toR5bNzizhLTextzyghi1OEEeXCZDeZ13Ziz6KgiIAIiIAIikPUEJOayvohXcoEx+1xePsRV/v0xchsh5vz4u4049kquVNuIgAiIgAiIQLYRkJjLthJdh+vZSKG1kcdeh0vXIURABERABEQgdASCIP6hy7UyLAIiIAIiIAIiIAIiEBCQmFNFEAEREAEREAEREIEQE5CYC3HhKesiIAIiIAIiIAIiIDGnOiACIiACIiACIiACISYgMRfiwlPWRUAEREAEREAEREBiTnVABERABERABERABEJMQGIuxIWnrIuACIiACIiACIiAxJzqgAiIgAiIgAiIgAiEmIDEXIgLT1kXAREQAREQAREQAYk51QEREAEREAEREAERCDEBibkQF56yLgIiIAIiIAIiIAISc6oDIiACIiACIiACIhBiAhJzIS48ZV0EREAEREAEREAEJOZUB0RABERABERABEQgxAQk5kJceMq6CIiACIiACIiACEjMqQ6IgAiIgAiIgAiIQIgJSMyFuPCUdREQAREQAREQARGQmFMdEAEREAEREAEREIEQE5CYC3HhKesiIAIiIAIiIAIiIDGnOiACIiACIiACIiACISYgMRfiwlPWRUAEREAEREAEREBiTnVABERABERABERABEJMQGIuxIWnrIuACIiACIiACIiAxJzqgAiIgAiIgAiIgAiEmIDEXIgLT1kXAREQAREQAREQAYk51QEREAEREAEREAERCDEBibkQF56yLgIiIAIiIAIiIAISc6oDIiACIiACIiACIhBiAhJzIS48ZV0EREAEREAEREAEJOZUB0RABERABERABEQgxAQk5kJceMq6CIiACIiACIiACEjMqQ6IgAiIgAiIgAiIQIgJSMyFuPCUdREQAREQAREQARGQmFMdEAEREAEREAEREIEQE5CYC3HhKesiIAIiIAIiIAIiIDGnOiACIiACIiACIiACISYgMRfiwlPWRUAEREAEREAEREBiTnVABERABERABERABEJMQGIuxIWnrIuACIiACIiACIiAxJzqgAiIgAiIgAiIgAiEmIDEXIgLT1kXAREQAREQAREQAYk51QEREAEREAEREAERCDEBibkQF56yLgIiIAIiIAIiIAISc6oDIiACIiACIiACIhBiAhJzIS48ZV0EREAEREAEREAEJOZUB0RABEQgQwlEIpEMzZmyJQIikEkECjIpM8qLCKSaQDQatfjFn5+/+RT/2f+mdxFIFQEv6Jarp8l58HXVv3N9/Ofk7fVdBDaKAOutr7P+HKqLnsT6v0vMrT9THTHDCfAm4xtIvufl5VlBQYEVFhbe/z0/P//+Vfht7/+gDyKQBgKsh6yjrKusn75e+vobX4f9OmYz/nMasq1T5jCB+Lrn6238vTWH0az7pUvMrTtSHTDTCSwtLRkX/9Q4NzdnY2Njdvv27fsNn3+CjL8ZZfp1KX/ZRyC+HvLz4OBgUFfn5+fvW9wWFxdtYmLC7ty5YwMDA4Hg8yRUfz0JvaeDgK+/fAjh/ZX32ZmZmeD+y/z49enIW7adU2Iu20pU1/NYAmzg+HTIJ0U2hENDQ3bu3DljA1lTUxPsz5uMGsLHotQGG0zAN3asi/zMxvDKlSs2PDwc1F2efmpqKvittLTUOjo6grrN31WHSUEp3QRYDynmRkZGgnra19dnfIBmiu8NSXc+w35+ibmwl6Dyv2ICbBB586Bga2lpsfLychsdHQ3E3OnTp+3y5ctWUlISHM83ois+uDYUgQ0k4B8sZmdng0aRDyB8EGGimDtz5oz19vZaRUXF/YcQ1eENLBAd+okI8OGZdZf3W1qQWZ+rqqqstbU1wZL8RAfVxgkEJOYScOhLthHwjSDfeUOprKy0w4cP29tvv21dXV129uxZu379un3//ffBpfvts42Drid7CFCkxQu1hYUF6+7utp6enuy5SF1J1hFgneX9lQ/MDQ0N1tbWZidPngzuyVl3sWm4IIm5NEDXKVNPwIs5WuVOnToVCLqrV6/aL3/5y0DI+cbRv6c+hzqjCKyeAOut6u7q+WnP1BBgHaVFubm52X7+85/bL37xC4m5dUKvIEbrBDKTDoM/mAPIz3eZlKdMzAsH4nKMES0a/KwkAiIgAiKwcQS8Za62ttZ27NhhjY2NG3ey3DjyJTA9yEuVmMvCApeYy8JC1SWJgAiIgAiIQCKB+2JOM0AkgtE3ERABERABERABEQgVAYm5UBWXMisCIiACIiACIiACiQQk5hJ56JsIiIAIiIAIiIAIhIqAxFyoikuZFQEREAEREAEREIFEAhJziTz0TQREQAREQAREQARCRUBiLlTFpcyKgAiIgAiIgAiIQCIBiblEHvomAiIgAiIgAiIgAqEiIDEXquJSZkVABERABERABEQgkYDEXCIPfRMBERABERABERCBUBGQmAtVcSmzIiACIiACIiACIpBIQGIukYe+iYAIiIAIiIAIiECoCEjMhaq4lFkREAEREAEREAERSCQgMZfIQ99EQAREQAREQAREIFQEJOZCVVzKrAiIgAiIgAiIgAgkEpCYS+ShbyIgAiIgAiIgAiIQKgISc6EqLmVWBERABERABERABBIJSMwl8tA3ERABERABERABEQgVAYm5UBWXMisCIiACIiACIiACiQQk5hJ56JsIiIAIiIAIiIAIhIqAxFyoikuZFQEREAEREAEREIFEAhJziTz0TQREQAREQAREQARCRUBiLlTFpcyKgAiIgAiIgAiIQCIBiblEHvomAiIgAiIgAiIgAqEiIDEXquJSZkVABERABERABEQgkYDEXCIPfRMBERABERABERCBUBGQmAtVcSmzIiACIiACIiACIpBIQGIukYe+iYAIiIAIiIAIiECoCEjMhaq4lFkREAEREAEREAERSCQgMZfIQ99EQAREQAREQAREIFQEJOZCVVzKrAiIgAiIgAiIgAgkEpCYS+ShbyIgAiIgAiIgAiIQKgISc6EqLmVWBERABERABERABBIJSMwl8tA3ERABERABERABEQgVAYm5UBWXMisCIiACIiACIiACiQQk5hJ56JsIiIAIiIAIiIAIhIpAQahyq8yulMAINvzvK91Y24mACIiACIiACISOwK3Q5VgZFgEREAEREAEREAEREAEREAEREAEREAEREAEREAEREAEREAEREAEREIHMIPD/AUDTtCZY0mVKAAAAAElFTkSuQmCC)"
      ],
      "metadata": {
        "id": "IaC9T_2YjXB-"
      }
    },
    {
      "cell_type": "markdown",
      "source": [
        "The expected output is :"
      ],
      "metadata": {
        "id": "VM4Hpw5xjtH-"
      }
    },
    {
      "cell_type": "markdown",
      "source": [
        "![Capture d’écran 2022-02-10 à 22.23.30.png](data:image/png;base64,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)"
      ],
      "metadata": {
        "id": "z25Tai_lj0tf"
      }
    },
    {
      "cell_type": "markdown",
      "source": [
        "Test for a 3 × 3 matrix, then 5 × 5, and finally 10 × 10.\n",
        "Create a second version of your script, this time with two `while` loops."
      ],
      "metadata": {
        "id": "RtP4DNmtj37p"
      }
    },
    {
      "cell_type": "code",
      "source": [
        "# with for loops\n",
        "N = 3 # you can test with N=5 and N=10\n",
        "print(\"line column\")\n",
        "for i in range(1, N+1):\n",
        "  for j in range(1, N+1):\n",
        "    print(i, j)"
      ],
      "metadata": {
        "colab": {
          "base_uri": "https://localhost:8080/"
        },
        "id": "86lTvQZMkB3u",
        "outputId": "c0dc4547-0c4c-48b6-c728-36f4ac469e86"
      },
      "execution_count": null,
      "outputs": [
        {
          "output_type": "stream",
          "name": "stdout",
          "text": [
            "line column\n",
            "1 1\n",
            "1 2\n",
            "1 3\n",
            "2 1\n",
            "2 2\n",
            "2 3\n",
            "3 1\n",
            "3 2\n",
            "3 3\n"
          ]
        }
      ]
    },
    {
      "cell_type": "code",
      "source": [
        "# with while loops\n",
        "N = 3 # you can test with N=5 and N=10\n",
        "print(\"line column\")\n",
        "i = 1\n",
        "while i < N+1:\n",
        "  j = 1\n",
        "  while j < N+1:\n",
        "    print(i, j)\n",
        "    j = j + 1\n",
        "  i= i + 1"
      ],
      "metadata": {
        "colab": {
          "base_uri": "https://localhost:8080/"
        },
        "id": "pej_3eqGki7k",
        "outputId": "f4f10fe2-e0ff-4aa9-d11f-1f4e825154ec"
      },
      "execution_count": null,
      "outputs": [
        {
          "output_type": "stream",
          "name": "stdout",
          "text": [
            "line column\n",
            "1 1\n",
            "1 2\n",
            "1 3\n",
            "2 1\n",
            "2 2\n",
            "2 3\n",
            "3 1\n",
            "3 2\n",
            "3 3\n"
          ]
        }
      ]
    },
    {
      "cell_type": "markdown",
      "source": [
        "**7.**\tMake a list called `week` containing the names of the seven days of the `week`.\n",
        "\n",
        "Using a loop, write each day of the `week` along with the following messages:\n",
        "\n",
        "- `\"At work\"` if it's Monday through Thursday;\n",
        "- `\"Thank God it’s Friday\"` if it's Friday;\n",
        "- `\"Rest it’s weekend\"` if it's Saturday or Sunday.\n",
        "\n",
        "These messages are only suggestions, you can let your imagination run wild."
      ],
      "metadata": {
        "id": "hLeW8M-Clwqv"
      }
    },
    {
      "cell_type": "code",
      "source": [
        "week = ['monday', 'tuesday', 'wednesday', 'thursday', 'friday','saturday', 'sunday']\n",
        "\n",
        "for day in week:\n",
        "  if day == 'saturday' or day == 'sunday':\n",
        "    print(day,\"Rest it’s weekend\")\n",
        "  elif day == \"friday\":\n",
        "    print(day, \"Thank God it’s Friday\")\n",
        "  else:\n",
        "    print(day, \"At work\")"
      ],
      "metadata": {
        "colab": {
          "base_uri": "https://localhost:8080/"
        },
        "id": "p3MZwlsclzoI",
        "outputId": "6eedec8d-9a5c-42ac-ec55-c910738e8c09"
      },
      "execution_count": null,
      "outputs": [
        {
          "output_type": "stream",
          "name": "stdout",
          "text": [
            "monday At work\n",
            "tuesday At work\n",
            "wednesday At work\n",
            "thursday At work\n",
            "friday Thank God it’s Friday\n",
            "saturday Rest it’s weekend\n",
            "sunday Rest it’s weekend\n"
          ]
        }
      ]
    },
    {
      "cell_type": "markdown",
      "source": [
        "**8.**\tThe list below represents the sequence of a DNA strand:\n",
        "\n",
        "`[\"A\", \"C\", \"G\", \"T\", \"T\", \"A\", \"G\", \"C\", \"T\", \"A\", \"A\", \"C\", \"G\"]`\n",
        "\n",
        "Create a script that transforms this sequence into its complementary sequence.\n",
        "\n",
        "Reminder: the complementary sequence is obtained by replacing A by T, T by A, C by G and G by C."
      ],
      "metadata": {
        "id": "bo5-6g6qng5t"
      }
    },
    {
      "cell_type": "code",
      "source": [
        "seq = [\"A\", \"C\", \"G\", \"T\", \"T\", \"A\", \"G\", \"C\", \"T\", \"A\", \"A\", \"C\", \"G\"]\n",
        "comp = []\n",
        "for base in seq :\n",
        "  if base == 'A' :\n",
        "    comp.append('T')\n",
        "  if base == 'T' :\n",
        "    comp.append('A')\n",
        "  if base == 'G' :\n",
        "    comp.append('C')\n",
        "  if base == 'C' :\n",
        "    comp.append('G')\n",
        "print(seq)\n",
        "print(comp)"
      ],
      "metadata": {
        "colab": {
          "base_uri": "https://localhost:8080/"
        },
        "id": "eGeB4dm1nj-_",
        "outputId": "e92861ed-d25c-4f41-f427-4fe0286f937d"
      },
      "execution_count": null,
      "outputs": [
        {
          "output_type": "stream",
          "name": "stdout",
          "text": [
            "['A', 'C', 'G', 'T', 'T', 'A', 'G', 'C', 'T', 'A', 'A', 'C', 'G']\n",
            "['T', 'G', 'C', 'A', 'A', 'T', 'C', 'G', 'A', 'T', 'T', 'G', 'C']\n"
          ]
        }
      ]
    },
    {
      "cell_type": "markdown",
      "source": [
        "**9.**\t`min()` function in python returns the smallest element of a list consisting of numeric values or strings. Without using this function, create a script that determines the smallest element of the list `[8, 4, 6, 1, 5]`.\n"
      ],
      "metadata": {
        "id": "PrFt5fSwn4Z5"
      }
    },
    {
      "cell_type": "code",
      "source": [
        "my_list= [8, 4, 6, 1, 5]\n",
        "mini= my_list[0]\n",
        "for ele in my_list:\n",
        "  if ele < mini:\n",
        "    mini=ele\n",
        "\n",
        "print(mini)"
      ],
      "metadata": {
        "colab": {
          "base_uri": "https://localhost:8080/"
        },
        "id": "wpyaAUzAoRVX",
        "outputId": "5a7c300f-ea6f-4e33-a5ea-87d6af5f83bf"
      },
      "execution_count": null,
      "outputs": [
        {
          "output_type": "stream",
          "name": "stdout",
          "text": [
            "1\n"
          ]
        }
      ]
    },
    {
      "cell_type": "markdown",
      "source": [
        "**10.**\tThe list below represents an amino acid sequence:\n",
        "\n",
        "`[\"A\", \"R\", \"A\", \"W\", \"W\", \"A\", \"W\", \"A\", \"R\", \"W\", \"W\", \"R\", \"A\", \"G\"]`\n",
        "\n",
        "Calculate the frequency of the amino acids alanine (A), arginine (R), tryptophan (W) and glycine (G) in this sequence using python."
      ],
      "metadata": {
        "id": "LoYb1v0qqAdJ"
      }
    },
    {
      "cell_type": "code",
      "source": [
        "seq = [\"A\",\"R\",\"A\",\"W\",\"W\",\"A\",\"W\",\"A\",\"R\",\"W\",\"W\",\"R\",\"A\",\"G\"]\n",
        "nb_residus = len(seq)\n",
        "nb_A = 0\n",
        "nb_R = 0\n",
        "nb_W = 0\n",
        "nb_G = 0\n",
        "\n",
        "for base in seq:\n",
        "  if base == 'A':\n",
        "    nb_A += 1\n",
        "  if base == 'R':\n",
        "    nb_R += 1\n",
        "  if base == 'W':\n",
        "    nb_W += 1\n",
        "  if base == 'G':\n",
        "    nb_G += 1\n",
        "\n",
        "print(\"freq A = \", nb_A/nb_residus)\n",
        "print(\"freq R = \", nb_R/nb_residus)\n",
        "print(\"freq W = \", nb_W/nb_residus)\n",
        "print(\"freq G = \", nb_G/nb_residus)"
      ],
      "metadata": {
        "colab": {
          "base_uri": "https://localhost:8080/"
        },
        "id": "RLTYXb51qdHV",
        "outputId": "12e08651-e187-4840-db88-986b8423c79b"
      },
      "execution_count": null,
      "outputs": [
        {
          "output_type": "stream",
          "name": "stdout",
          "text": [
            "freq A =  0.35714285714285715\n",
            "freq R =  0.21428571428571427\n",
            "freq W =  0.35714285714285715\n",
            "freq G =  0.07142857142857142\n"
          ]
        }
      ]
    },
    {
      "cell_type": "markdown",
      "source": [
        "**11.**\tCreate a loop that goes through the numbers from 0 to 20 and displays the even numbers less than or equal to 10, and the odd numbers strictly greater than 10.\n",
        "\n",
        "For this exercise, you can use the operator `%` which returns the remainder of an integer division between two numbers:\n"
      ],
      "metadata": {
        "id": "NCR0gRpArNLs"
      }
    },
    {
      "cell_type": "markdown",
      "source": [
        "![Capture d’écran 2022-02-10 à 23.07.36.png](data:image/png;base64,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)"
      ],
      "metadata": {
        "id": "oo8Ed1iNrx4w"
      }
    },
    {
      "cell_type": "markdown",
      "source": [
        "Please note that a number is even when the remainder of its whole division by 2 is zero.\n"
      ],
      "metadata": {
        "id": "O55kH5T0r0Yx"
      }
    },
    {
      "cell_type": "code",
      "source": [
        "for i in range(21):\n",
        "  if i <= 10 and i%2 == 0:\n",
        "    print(i)\n",
        "  if i > 10 and i%2 == 1:\n",
        "    print(i)"
      ],
      "metadata": {
        "colab": {
          "base_uri": "https://localhost:8080/"
        },
        "id": "IIheYqLJr5Ko",
        "outputId": "5d84f0cd-35cd-4989-e911-6f5d342d9376"
      },
      "execution_count": null,
      "outputs": [
        {
          "output_type": "stream",
          "name": "stdout",
          "text": [
            "0\n",
            "2\n",
            "4\n",
            "6\n",
            "8\n",
            "10\n",
            "11\n",
            "13\n",
            "15\n",
            "17\n",
            "19\n"
          ]
        }
      ]
    },
    {
      "cell_type": "markdown",
      "source": [
        "**Exercise +++ (Optional)**"
      ],
      "metadata": {
        "id": "tgR4wVMVtUJC"
      }
    },
    {
      "cell_type": "markdown",
      "source": [
        "![image.png](data:image/png;base64,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)"
      ],
      "metadata": {
        "id": "TZ1uekkHsMaE"
      }
    },
    {
      "cell_type": "code",
      "source": [
        "fibo = [0, 1]\n",
        "i = 0\n",
        "while len(fibo) < 15:\n",
        "  fibo.append(fibo[i] + fibo[i+1])\n",
        "  i = i + 1\n",
        "print(fibo)"
      ],
      "metadata": {
        "colab": {
          "base_uri": "https://localhost:8080/"
        },
        "id": "1v3lqKGQtQoG",
        "outputId": "5dbf7d93-01ac-4b52-e5ce-8e916d94a1ca"
      },
      "execution_count": null,
      "outputs": [
        {
          "output_type": "stream",
          "name": "stdout",
          "text": [
            "[0, 1, 1, 2, 3, 5, 8, 13, 21, 34, 55, 89, 144, 233, 377]\n"
          ]
        }
      ]
    },
    {
      "cell_type": "code",
      "source": [
        "# to calculate the ratio\n",
        "for i in range(2, len(fibo)):\n",
        "  print(i, fibo[i]/fibo[i-1])"
      ],
      "metadata": {
        "colab": {
          "base_uri": "https://localhost:8080/"
        },
        "id": "AUYkKtQlttGv",
        "outputId": "ca5ef7e1-dbd3-49a1-928b-ac269a302533"
      },
      "execution_count": null,
      "outputs": [
        {
          "output_type": "stream",
          "name": "stdout",
          "text": [
            "2 1.0\n",
            "3 2.0\n",
            "4 1.5\n",
            "5 1.6666666666666667\n",
            "6 1.6\n",
            "7 1.625\n",
            "8 1.6153846153846154\n",
            "9 1.619047619047619\n",
            "10 1.6176470588235294\n",
            "11 1.6181818181818182\n",
            "12 1.6179775280898876\n",
            "13 1.6180555555555556\n",
            "14 1.6180257510729614\n"
          ]
        }
      ]
    },
    {
      "cell_type": "markdown",
      "source": [
        "We can see that this ratio tends towards the golden number which is approximately 1.6"
      ],
      "metadata": {
        "id": "idVncBdMt83i"
      }
    }
  ]
}