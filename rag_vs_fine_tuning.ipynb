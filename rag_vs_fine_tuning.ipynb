{
  "nbformat": 4,
  "nbformat_minor": 0,
  "metadata": {
    "colab": {
      "provenance": [],
      "authorship_tag": "ABX9TyPNIbpTYAmC5Kn4Q+98AaLR",
      "include_colab_link": true
    },
    "kernelspec": {
      "name": "python3",
      "display_name": "Python 3"
    },
    "language_info": {
      "name": "python"
    }
  },
  "cells": [
    {
      "cell_type": "markdown",
      "metadata": {
        "id": "view-in-github",
        "colab_type": "text"
      },
      "source": [
        "<a href=\"https://colab.research.google.com/github/narminGhaffari/Programming_Diary/blob/main/rag_vs_fine_tuning.ipynb\" target=\"_parent\"><img src=\"https://colab.research.google.com/assets/colab-badge.svg\" alt=\"Open In Colab\"/></a>"
      ]
    },
    {
      "cell_type": "markdown",
      "source": [
        "This is only the start!"
      ],
      "metadata": {
        "id": "Fk_yCyouL8HE"
      }
    },
    {
      "cell_type": "code",
      "execution_count": null,
      "metadata": {
        "id": "Axa9tQZ8Lpdp"
      },
      "outputs": [],
      "source": [
        "print('Helo')"
      ]
    },
    {
      "cell_type": "code",
      "source": [
        "print('World')"
      ],
      "metadata": {
        "id": "uyNHsxD_MxLU"
      },
      "execution_count": null,
      "outputs": []
    }
  ]
}